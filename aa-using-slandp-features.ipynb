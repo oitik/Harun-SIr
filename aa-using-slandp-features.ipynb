{
 "cells": [
  {
   "cell_type": "markdown",
   "id": "68facea2",
   "metadata": {
    "papermill": {
     "duration": 0.011226,
     "end_time": "2023-11-16T13:17:06.177480",
     "exception": false,
     "start_time": "2023-11-16T13:17:06.166254",
     "status": "completed"
    },
    "tags": []
   },
   "source": [
    "<div style=\"text-align: center;background-color: gold; padding: 25px; border-radius: 5px; margin-bottom: 10px;\">\n",
    "    <h2> AUTHORSHIP ATTRIBUTION USING SENTENCE LENGTH AND PUNCTUATION PATTERN </h2>\n",
    "</div>\n",
    "\n",
    "* Main Idea : `Harun Or Rashid Sir` 😊✨\n",
    "* Coding    : `Tanbeer Jubaer` 🌟 and `Minhazul Islam` 🏆\n",
    "<!-- 😊\n",
    "✨\n",
    "🌟\n",
    "👍\n",
    "❤️\n",
    "🎉\n",
    "🌸\n",
    "🚀\n",
    "🌈\n",
    "🎈\n",
    "🎂\n",
    "📚\n",
    "🎵\n",
    "🎲\n",
    "🏆\n",
    "🎥\n",
    "🍕\n",
    "🍎\n",
    "🚗\n",
    "⏰ -->"
   ]
  },
  {
   "cell_type": "markdown",
   "id": "6701cb63",
   "metadata": {
    "papermill": {
     "duration": 0.010998,
     "end_time": "2023-11-16T13:17:06.199909",
     "exception": false,
     "start_time": "2023-11-16T13:17:06.188911",
     "status": "completed"
    },
    "tags": []
   },
   "source": [
    "<div style=\"text-align: center;\">\n",
    "    <h2> 1. Import Necessary Libraries</h2>\n",
    "</div>"
   ]
  },
  {
   "cell_type": "code",
   "execution_count": 1,
   "id": "a6301993",
   "metadata": {
    "execution": {
     "iopub.execute_input": "2023-11-16T13:17:06.223890Z",
     "iopub.status.busy": "2023-11-16T13:17:06.223127Z",
     "iopub.status.idle": "2023-11-16T13:17:08.870989Z",
     "shell.execute_reply": "2023-11-16T13:17:08.869873Z"
    },
    "papermill": {
     "duration": 2.663083,
     "end_time": "2023-11-16T13:17:08.873882",
     "exception": false,
     "start_time": "2023-11-16T13:17:06.210799",
     "status": "completed"
    },
    "tags": []
   },
   "outputs": [],
   "source": [
    "# Regular EDA(exploratory data analysis) and plotting libraries\n",
    "import numpy as np\n",
    "import pandas as pd\n",
    "import matplotlib.pyplot as plt\n",
    "\n",
    "from sklearn.model_selection import train_test_split\n",
    "%matplotlib inline\n",
    "\n",
    "from tqdm import tqdm\n",
    "import string\n",
    "import statistics\n",
    "import re\n",
    "import joblib\n",
    "import random\n",
    "import statistics\n",
    "from collections import Counter\n",
    "from scipy import stats\n",
    "import os\n",
    "import seaborn as sns\n",
    "from mpl_toolkits.mplot3d import Axes3D\n",
    "from sklearn.metrics.pairwise import cosine_similarity\n",
    "import zipfile\n",
    "from matplotlib.lines import Line2D"
   ]
  },
  {
   "cell_type": "code",
   "execution_count": 2,
   "id": "e6fcf4d6",
   "metadata": {
    "execution": {
     "iopub.execute_input": "2023-11-16T13:17:08.897777Z",
     "iopub.status.busy": "2023-11-16T13:17:08.897223Z",
     "iopub.status.idle": "2023-11-16T13:17:09.550646Z",
     "shell.execute_reply": "2023-11-16T13:17:09.549481Z"
    },
    "papermill": {
     "duration": 0.667929,
     "end_time": "2023-11-16T13:17:09.552997",
     "exception": false,
     "start_time": "2023-11-16T13:17:08.885068",
     "status": "completed"
    },
    "tags": []
   },
   "outputs": [
    {
     "data": {
      "text/html": [
       "<div>\n",
       "<style scoped>\n",
       "    .dataframe tbody tr th:only-of-type {\n",
       "        vertical-align: middle;\n",
       "    }\n",
       "\n",
       "    .dataframe tbody tr th {\n",
       "        vertical-align: top;\n",
       "    }\n",
       "\n",
       "    .dataframe thead th {\n",
       "        text-align: right;\n",
       "    }\n",
       "</style>\n",
       "<table border=\"1\" class=\"dataframe\">\n",
       "  <thead>\n",
       "    <tr style=\"text-align: right;\">\n",
       "      <th></th>\n",
       "      <th>book_id</th>\n",
       "      <th>writer</th>\n",
       "      <th>st_state5x3_1</th>\n",
       "      <th>st_state5x3_2</th>\n",
       "      <th>st_state5x3_3</th>\n",
       "      <th>st_state5x3_4</th>\n",
       "      <th>st_state5x3_5</th>\n",
       "      <th>state5x5_1</th>\n",
       "      <th>state5x5_2</th>\n",
       "      <th>state5x5_3</th>\n",
       "      <th>...</th>\n",
       "      <th>state7x7_47</th>\n",
       "      <th>state7x7_48</th>\n",
       "      <th>state7x7_49</th>\n",
       "      <th>mean</th>\n",
       "      <th>median</th>\n",
       "      <th>mode</th>\n",
       "      <th>variance</th>\n",
       "      <th>std_dev</th>\n",
       "      <th>punc_state_mat</th>\n",
       "      <th>punc_st_state</th>\n",
       "    </tr>\n",
       "  </thead>\n",
       "  <tbody>\n",
       "    <tr>\n",
       "      <th>0</th>\n",
       "      <td>feluda_33_Noyon_Rahashya</td>\n",
       "      <td>Satyajit Ray</td>\n",
       "      <td>0.218364</td>\n",
       "      <td>0.253602</td>\n",
       "      <td>0.207741</td>\n",
       "      <td>0.138053</td>\n",
       "      <td>0.182240</td>\n",
       "      <td>0.332685</td>\n",
       "      <td>0.282101</td>\n",
       "      <td>0.177043</td>\n",
       "      <td>...</td>\n",
       "      <td>0.108696</td>\n",
       "      <td>0.072464</td>\n",
       "      <td>0.094203</td>\n",
       "      <td>8.076395</td>\n",
       "      <td>7.0</td>\n",
       "      <td>5</td>\n",
       "      <td>31.971834</td>\n",
       "      <td>5.654364</td>\n",
       "      <td>[[0.52 0.13 0.03 0.32]\\n [0.52 0.11 0.03 0.34]...</td>\n",
       "      <td>[0.56 0.11 0.04 0.29]</td>\n",
       "    </tr>\n",
       "    <tr>\n",
       "      <th>1</th>\n",
       "      <td>feluda_22_OmborSen_Ontordhan_Rahashya</td>\n",
       "      <td>Satyajit Ray</td>\n",
       "      <td>0.261259</td>\n",
       "      <td>0.261148</td>\n",
       "      <td>0.217963</td>\n",
       "      <td>0.113027</td>\n",
       "      <td>0.146602</td>\n",
       "      <td>0.340206</td>\n",
       "      <td>0.283505</td>\n",
       "      <td>0.185567</td>\n",
       "      <td>...</td>\n",
       "      <td>0.147059</td>\n",
       "      <td>0.058824</td>\n",
       "      <td>0.147059</td>\n",
       "      <td>7.318498</td>\n",
       "      <td>6.0</td>\n",
       "      <td>3</td>\n",
       "      <td>27.927666</td>\n",
       "      <td>5.284663</td>\n",
       "      <td>[[0.53 0.14 0.03 0.31]\\n [0.64 0.07 0.06 0.23]...</td>\n",
       "      <td>[0.55 0.12 0.04 0.29]</td>\n",
       "    </tr>\n",
       "  </tbody>\n",
       "</table>\n",
       "<p>2 rows × 175 columns</p>\n",
       "</div>"
      ],
      "text/plain": [
       "                                 book_id        writer  st_state5x3_1  \\\n",
       "0               feluda_33_Noyon_Rahashya  Satyajit Ray       0.218364   \n",
       "1  feluda_22_OmborSen_Ontordhan_Rahashya  Satyajit Ray       0.261259   \n",
       "\n",
       "   st_state5x3_2  st_state5x3_3  st_state5x3_4  st_state5x3_5  state5x5_1  \\\n",
       "0       0.253602       0.207741       0.138053       0.182240    0.332685   \n",
       "1       0.261148       0.217963       0.113027       0.146602    0.340206   \n",
       "\n",
       "   state5x5_2  state5x5_3  ...  state7x7_47  state7x7_48  state7x7_49  \\\n",
       "0    0.282101    0.177043  ...     0.108696     0.072464     0.094203   \n",
       "1    0.283505    0.185567  ...     0.147059     0.058824     0.147059   \n",
       "\n",
       "       mean  median  mode   variance   std_dev  \\\n",
       "0  8.076395     7.0     5  31.971834  5.654364   \n",
       "1  7.318498     6.0     3  27.927666  5.284663   \n",
       "\n",
       "                                      punc_state_mat          punc_st_state  \n",
       "0  [[0.52 0.13 0.03 0.32]\\n [0.52 0.11 0.03 0.34]...  [0.56 0.11 0.04 0.29]  \n",
       "1  [[0.53 0.14 0.03 0.31]\\n [0.64 0.07 0.06 0.23]...  [0.55 0.12 0.04 0.29]  \n",
       "\n",
       "[2 rows x 175 columns]"
      ]
     },
     "execution_count": 2,
     "metadata": {},
     "output_type": "execute_result"
    }
   ],
   "source": [
    "data = pd.read_excel('/kaggle/input/author-data/author_data.xlsx')\n",
    "data.head(2)"
   ]
  },
  {
   "cell_type": "code",
   "execution_count": 3,
   "id": "07aa372b",
   "metadata": {
    "execution": {
     "iopub.execute_input": "2023-11-16T13:17:09.577908Z",
     "iopub.status.busy": "2023-11-16T13:17:09.576859Z",
     "iopub.status.idle": "2023-11-16T13:17:09.584353Z",
     "shell.execute_reply": "2023-11-16T13:17:09.583389Z"
    },
    "papermill": {
     "duration": 0.02221,
     "end_time": "2023-11-16T13:17:09.586474",
     "exception": false,
     "start_time": "2023-11-16T13:17:09.564264",
     "status": "completed"
    },
    "tags": []
   },
   "outputs": [
    {
     "data": {
      "text/plain": [
       "(90, 175)"
      ]
     },
     "execution_count": 3,
     "metadata": {},
     "output_type": "execute_result"
    }
   ],
   "source": [
    "data.shape"
   ]
  },
  {
   "cell_type": "code",
   "execution_count": 4,
   "id": "925a5657",
   "metadata": {
    "execution": {
     "iopub.execute_input": "2023-11-16T13:17:09.612698Z",
     "iopub.status.busy": "2023-11-16T13:17:09.611878Z",
     "iopub.status.idle": "2023-11-16T13:17:09.621343Z",
     "shell.execute_reply": "2023-11-16T13:17:09.619962Z"
    },
    "papermill": {
     "duration": 0.025625,
     "end_time": "2023-11-16T13:17:09.624118",
     "exception": false,
     "start_time": "2023-11-16T13:17:09.598493",
     "status": "completed"
    },
    "tags": []
   },
   "outputs": [
    {
     "data": {
      "text/plain": [
       "book_id            object\n",
       "writer             object\n",
       "st_state5x3_1     float64\n",
       "st_state5x3_2     float64\n",
       "st_state5x3_3     float64\n",
       "                   ...   \n",
       "mode                int64\n",
       "variance          float64\n",
       "std_dev           float64\n",
       "punc_state_mat     object\n",
       "punc_st_state      object\n",
       "Length: 175, dtype: object"
      ]
     },
     "execution_count": 4,
     "metadata": {},
     "output_type": "execute_result"
    }
   ],
   "source": [
    "data.dtypes"
   ]
  },
  {
   "cell_type": "code",
   "execution_count": 5,
   "id": "1cfceb61",
   "metadata": {
    "execution": {
     "iopub.execute_input": "2023-11-16T13:17:09.650053Z",
     "iopub.status.busy": "2023-11-16T13:17:09.649635Z",
     "iopub.status.idle": "2023-11-16T13:17:09.659310Z",
     "shell.execute_reply": "2023-11-16T13:17:09.658567Z"
    },
    "papermill": {
     "duration": 0.024533,
     "end_time": "2023-11-16T13:17:09.661345",
     "exception": false,
     "start_time": "2023-11-16T13:17:09.636812",
     "status": "completed"
    },
    "tags": []
   },
   "outputs": [
    {
     "data": {
      "text/plain": [
       "0                  feluda_33_Noyon_Rahashya\n",
       "1     feluda_22_OmborSen_Ontordhan_Rahashya\n",
       "2                feluda_13_Bombayer_Bombete\n",
       "3             feluda_12_Ghurghutiar_Ghotona\n",
       "4           feluda_19_JotoKando_Kathmandute\n",
       "                      ...                  \n",
       "85                    MisirAli-2-Nishithini\n",
       "86                 MisirAli-11-AmiyMisirAli\n",
       "87                    MisirAli-5-Brihonnola\n",
       "88             MisirAli-21-SabhdhanMisirAli\n",
       "89                        MisirAli-8-Oneesh\n",
       "Name: book_id, Length: 90, dtype: object"
      ]
     },
     "execution_count": 5,
     "metadata": {},
     "output_type": "execute_result"
    }
   ],
   "source": [
    "books = data['book_id']\n",
    "books"
   ]
  },
  {
   "cell_type": "code",
   "execution_count": 6,
   "id": "a2f99e08",
   "metadata": {
    "execution": {
     "iopub.execute_input": "2023-11-16T13:17:09.686503Z",
     "iopub.status.busy": "2023-11-16T13:17:09.685888Z",
     "iopub.status.idle": "2023-11-16T13:17:09.698052Z",
     "shell.execute_reply": "2023-11-16T13:17:09.696937Z"
    },
    "papermill": {
     "duration": 0.027143,
     "end_time": "2023-11-16T13:17:09.700130",
     "exception": false,
     "start_time": "2023-11-16T13:17:09.672987",
     "status": "completed"
    },
    "tags": []
   },
   "outputs": [
    {
     "data": {
      "text/plain": [
       "writer\n",
       "Humayun Ahmed    42\n",
       "Satyajit Ray     35\n",
       "Rabindranath     13\n",
       "Name: count, dtype: int64"
      ]
     },
     "execution_count": 6,
     "metadata": {},
     "output_type": "execute_result"
    }
   ],
   "source": [
    "data.writer.value_counts()"
   ]
  },
  {
   "cell_type": "code",
   "execution_count": 7,
   "id": "c8cebb6e",
   "metadata": {
    "execution": {
     "iopub.execute_input": "2023-11-16T13:17:09.725914Z",
     "iopub.status.busy": "2023-11-16T13:17:09.725237Z",
     "iopub.status.idle": "2023-11-16T13:17:09.730457Z",
     "shell.execute_reply": "2023-11-16T13:17:09.729687Z"
    },
    "papermill": {
     "duration": 0.02055,
     "end_time": "2023-11-16T13:17:09.732538",
     "exception": false,
     "start_time": "2023-11-16T13:17:09.711988",
     "status": "completed"
    },
    "tags": []
   },
   "outputs": [],
   "source": [
    "def writer_label(name):\n",
    "    if name == 'Humayun Ahmed':\n",
    "        return 0\n",
    "    elif name == 'Satyajit Ray':\n",
    "        return 1\n",
    "    elif name == 'Rabindranath':\n",
    "        return 2"
   ]
  },
  {
   "cell_type": "code",
   "execution_count": 8,
   "id": "24772cf0",
   "metadata": {
    "execution": {
     "iopub.execute_input": "2023-11-16T13:17:09.757701Z",
     "iopub.status.busy": "2023-11-16T13:17:09.757049Z",
     "iopub.status.idle": "2023-11-16T13:17:09.761691Z",
     "shell.execute_reply": "2023-11-16T13:17:09.760943Z"
    },
    "papermill": {
     "duration": 0.019562,
     "end_time": "2023-11-16T13:17:09.763667",
     "exception": false,
     "start_time": "2023-11-16T13:17:09.744105",
     "status": "completed"
    },
    "tags": []
   },
   "outputs": [],
   "source": [
    "from sklearn.preprocessing import LabelEncoder\n",
    "# Initialize LabelEncoder\n",
    "label_encoder = LabelEncoder()\n",
    "# data['en_writer'] = label_encoder.fit_transform(data['writer'])"
   ]
  },
  {
   "cell_type": "code",
   "execution_count": 9,
   "id": "f9a0193c",
   "metadata": {
    "execution": {
     "iopub.execute_input": "2023-11-16T13:17:09.788786Z",
     "iopub.status.busy": "2023-11-16T13:17:09.788144Z",
     "iopub.status.idle": "2023-11-16T13:17:09.793736Z",
     "shell.execute_reply": "2023-11-16T13:17:09.792996Z"
    },
    "papermill": {
     "duration": 0.020622,
     "end_time": "2023-11-16T13:17:09.795827",
     "exception": false,
     "start_time": "2023-11-16T13:17:09.775205",
     "status": "completed"
    },
    "tags": []
   },
   "outputs": [],
   "source": [
    "data['en_writer'] = data['writer'].apply(writer_label)"
   ]
  },
  {
   "cell_type": "code",
   "execution_count": 10,
   "id": "299b27fd",
   "metadata": {
    "execution": {
     "iopub.execute_input": "2023-11-16T13:17:09.876774Z",
     "iopub.status.busy": "2023-11-16T13:17:09.876135Z",
     "iopub.status.idle": "2023-11-16T13:17:09.900580Z",
     "shell.execute_reply": "2023-11-16T13:17:09.898166Z"
    },
    "papermill": {
     "duration": 0.095648,
     "end_time": "2023-11-16T13:17:09.902954",
     "exception": false,
     "start_time": "2023-11-16T13:17:09.807306",
     "status": "completed"
    },
    "tags": []
   },
   "outputs": [
    {
     "data": {
      "text/html": [
       "<div>\n",
       "<style scoped>\n",
       "    .dataframe tbody tr th:only-of-type {\n",
       "        vertical-align: middle;\n",
       "    }\n",
       "\n",
       "    .dataframe tbody tr th {\n",
       "        vertical-align: top;\n",
       "    }\n",
       "\n",
       "    .dataframe thead th {\n",
       "        text-align: right;\n",
       "    }\n",
       "</style>\n",
       "<table border=\"1\" class=\"dataframe\">\n",
       "  <thead>\n",
       "    <tr style=\"text-align: right;\">\n",
       "      <th></th>\n",
       "      <th>book_id</th>\n",
       "      <th>writer</th>\n",
       "      <th>st_state5x3_1</th>\n",
       "      <th>st_state5x3_2</th>\n",
       "      <th>st_state5x3_3</th>\n",
       "      <th>st_state5x3_4</th>\n",
       "      <th>st_state5x3_5</th>\n",
       "      <th>state5x5_1</th>\n",
       "      <th>state5x5_2</th>\n",
       "      <th>state5x5_3</th>\n",
       "      <th>...</th>\n",
       "      <th>state7x7_48</th>\n",
       "      <th>state7x7_49</th>\n",
       "      <th>mean</th>\n",
       "      <th>median</th>\n",
       "      <th>mode</th>\n",
       "      <th>variance</th>\n",
       "      <th>std_dev</th>\n",
       "      <th>punc_state_mat</th>\n",
       "      <th>punc_st_state</th>\n",
       "      <th>en_writer</th>\n",
       "    </tr>\n",
       "  </thead>\n",
       "  <tbody>\n",
       "    <tr>\n",
       "      <th>0</th>\n",
       "      <td>feluda_33_Noyon_Rahashya</td>\n",
       "      <td>Satyajit Ray</td>\n",
       "      <td>0.218364</td>\n",
       "      <td>0.253602</td>\n",
       "      <td>0.207741</td>\n",
       "      <td>0.138053</td>\n",
       "      <td>0.182240</td>\n",
       "      <td>0.332685</td>\n",
       "      <td>0.282101</td>\n",
       "      <td>0.177043</td>\n",
       "      <td>...</td>\n",
       "      <td>0.072464</td>\n",
       "      <td>0.094203</td>\n",
       "      <td>8.076395</td>\n",
       "      <td>7.0</td>\n",
       "      <td>5</td>\n",
       "      <td>31.971834</td>\n",
       "      <td>5.654364</td>\n",
       "      <td>[[0.52 0.13 0.03 0.32]\\n [0.52 0.11 0.03 0.34]...</td>\n",
       "      <td>[0.56 0.11 0.04 0.29]</td>\n",
       "      <td>1</td>\n",
       "    </tr>\n",
       "    <tr>\n",
       "      <th>1</th>\n",
       "      <td>feluda_22_OmborSen_Ontordhan_Rahashya</td>\n",
       "      <td>Satyajit Ray</td>\n",
       "      <td>0.261259</td>\n",
       "      <td>0.261148</td>\n",
       "      <td>0.217963</td>\n",
       "      <td>0.113027</td>\n",
       "      <td>0.146602</td>\n",
       "      <td>0.340206</td>\n",
       "      <td>0.283505</td>\n",
       "      <td>0.185567</td>\n",
       "      <td>...</td>\n",
       "      <td>0.058824</td>\n",
       "      <td>0.147059</td>\n",
       "      <td>7.318498</td>\n",
       "      <td>6.0</td>\n",
       "      <td>3</td>\n",
       "      <td>27.927666</td>\n",
       "      <td>5.284663</td>\n",
       "      <td>[[0.53 0.14 0.03 0.31]\\n [0.64 0.07 0.06 0.23]...</td>\n",
       "      <td>[0.55 0.12 0.04 0.29]</td>\n",
       "      <td>1</td>\n",
       "    </tr>\n",
       "  </tbody>\n",
       "</table>\n",
       "<p>2 rows × 176 columns</p>\n",
       "</div>"
      ],
      "text/plain": [
       "                                 book_id        writer  st_state5x3_1  \\\n",
       "0               feluda_33_Noyon_Rahashya  Satyajit Ray       0.218364   \n",
       "1  feluda_22_OmborSen_Ontordhan_Rahashya  Satyajit Ray       0.261259   \n",
       "\n",
       "   st_state5x3_2  st_state5x3_3  st_state5x3_4  st_state5x3_5  state5x5_1  \\\n",
       "0       0.253602       0.207741       0.138053       0.182240    0.332685   \n",
       "1       0.261148       0.217963       0.113027       0.146602    0.340206   \n",
       "\n",
       "   state5x5_2  state5x5_3  ...  state7x7_48  state7x7_49      mean  median  \\\n",
       "0    0.282101    0.177043  ...     0.072464     0.094203  8.076395     7.0   \n",
       "1    0.283505    0.185567  ...     0.058824     0.147059  7.318498     6.0   \n",
       "\n",
       "   mode   variance   std_dev  \\\n",
       "0     5  31.971834  5.654364   \n",
       "1     3  27.927666  5.284663   \n",
       "\n",
       "                                      punc_state_mat          punc_st_state  \\\n",
       "0  [[0.52 0.13 0.03 0.32]\\n [0.52 0.11 0.03 0.34]...  [0.56 0.11 0.04 0.29]   \n",
       "1  [[0.53 0.14 0.03 0.31]\\n [0.64 0.07 0.06 0.23]...  [0.55 0.12 0.04 0.29]   \n",
       "\n",
       "   en_writer  \n",
       "0          1  \n",
       "1          1  \n",
       "\n",
       "[2 rows x 176 columns]"
      ]
     },
     "execution_count": 10,
     "metadata": {},
     "output_type": "execute_result"
    }
   ],
   "source": [
    "data.head(2)"
   ]
  },
  {
   "cell_type": "code",
   "execution_count": 11,
   "id": "9f319b77",
   "metadata": {
    "execution": {
     "iopub.execute_input": "2023-11-16T13:17:09.928951Z",
     "iopub.status.busy": "2023-11-16T13:17:09.928274Z",
     "iopub.status.idle": "2023-11-16T13:17:09.938499Z",
     "shell.execute_reply": "2023-11-16T13:17:09.937381Z"
    },
    "papermill": {
     "duration": 0.026094,
     "end_time": "2023-11-16T13:17:09.940898",
     "exception": false,
     "start_time": "2023-11-16T13:17:09.914804",
     "status": "completed"
    },
    "tags": []
   },
   "outputs": [
    {
     "data": {
      "text/plain": [
       "en_writer\n",
       "0    42\n",
       "1    35\n",
       "2    13\n",
       "Name: count, dtype: int64"
      ]
     },
     "execution_count": 11,
     "metadata": {},
     "output_type": "execute_result"
    }
   ],
   "source": [
    "data['en_writer'].value_counts()"
   ]
  },
  {
   "cell_type": "code",
   "execution_count": 12,
   "id": "42476ad8",
   "metadata": {
    "execution": {
     "iopub.execute_input": "2023-11-16T13:17:09.967421Z",
     "iopub.status.busy": "2023-11-16T13:17:09.967024Z",
     "iopub.status.idle": "2023-11-16T13:17:09.976014Z",
     "shell.execute_reply": "2023-11-16T13:17:09.974858Z"
    },
    "papermill": {
     "duration": 0.024879,
     "end_time": "2023-11-16T13:17:09.978342",
     "exception": false,
     "start_time": "2023-11-16T13:17:09.953463",
     "status": "completed"
    },
    "tags": []
   },
   "outputs": [
    {
     "data": {
      "text/plain": [
       "book_id                                     ProjapotirNirbondho1908\n",
       "writer                                                 Rabindranath\n",
       "st_state5x3_1                                              0.368354\n",
       "st_state5x3_2                                              0.184394\n",
       "st_state5x3_3                                              0.149378\n",
       "                                        ...                        \n",
       "variance                                                  52.261834\n",
       "std_dev                                                    7.229235\n",
       "punc_state_mat    [[0.52 0.07 0.05 0.35]\\n [0.68 0.11 0.04 0.17]...\n",
       "punc_st_state                                 [0.53 0.09 0.07 0.31]\n",
       "en_writer                                                         2\n",
       "Name: 40, Length: 176, dtype: object"
      ]
     },
     "execution_count": 12,
     "metadata": {},
     "output_type": "execute_result"
    }
   ],
   "source": [
    "data.iloc[40]"
   ]
  },
  {
   "cell_type": "code",
   "execution_count": 13,
   "id": "cd602273",
   "metadata": {
    "execution": {
     "iopub.execute_input": "2023-11-16T13:17:10.005346Z",
     "iopub.status.busy": "2023-11-16T13:17:10.004930Z",
     "iopub.status.idle": "2023-11-16T13:17:10.012146Z",
     "shell.execute_reply": "2023-11-16T13:17:10.010992Z"
    },
    "papermill": {
     "duration": 0.023111,
     "end_time": "2023-11-16T13:17:10.014381",
     "exception": false,
     "start_time": "2023-11-16T13:17:09.991270",
     "status": "completed"
    },
    "tags": []
   },
   "outputs": [],
   "source": [
    "# Drop row at position 40\n",
    "data = data.drop(data.index[40])"
   ]
  },
  {
   "cell_type": "code",
   "execution_count": 14,
   "id": "29005bfa",
   "metadata": {
    "execution": {
     "iopub.execute_input": "2023-11-16T13:17:10.041387Z",
     "iopub.status.busy": "2023-11-16T13:17:10.041017Z",
     "iopub.status.idle": "2023-11-16T13:17:10.049815Z",
     "shell.execute_reply": "2023-11-16T13:17:10.048686Z"
    },
    "papermill": {
     "duration": 0.02474,
     "end_time": "2023-11-16T13:17:10.052039",
     "exception": false,
     "start_time": "2023-11-16T13:17:10.027299",
     "status": "completed"
    },
    "tags": []
   },
   "outputs": [
    {
     "data": {
      "text/plain": [
       "book_id                                               Maloncho-1934\n",
       "writer                                                 Rabindranath\n",
       "st_state5x3_1                                              0.137564\n",
       "st_state5x3_2                                              0.281439\n",
       "st_state5x3_3                                              0.227536\n",
       "                                        ...                        \n",
       "variance                                                  28.882469\n",
       "std_dev                                                    5.374241\n",
       "punc_state_mat    [[0.53 0.03 0.02 0.42]\\n [0.58 0.02 0.01 0.39]...\n",
       "punc_st_state                                 [0.56 0.03 0.02 0.39]\n",
       "en_writer                                                         2\n",
       "Name: 41, Length: 176, dtype: object"
      ]
     },
     "execution_count": 14,
     "metadata": {},
     "output_type": "execute_result"
    }
   ],
   "source": [
    "data.iloc[40]"
   ]
  },
  {
   "cell_type": "code",
   "execution_count": 15,
   "id": "fd04acef",
   "metadata": {
    "execution": {
     "iopub.execute_input": "2023-11-16T13:17:10.078696Z",
     "iopub.status.busy": "2023-11-16T13:17:10.078291Z",
     "iopub.status.idle": "2023-11-16T13:17:10.087204Z",
     "shell.execute_reply": "2023-11-16T13:17:10.085994Z"
    },
    "papermill": {
     "duration": 0.024763,
     "end_time": "2023-11-16T13:17:10.089235",
     "exception": false,
     "start_time": "2023-11-16T13:17:10.064472",
     "status": "completed"
    },
    "tags": []
   },
   "outputs": [
    {
     "data": {
      "text/plain": [
       "en_writer\n",
       "0    42\n",
       "1    35\n",
       "2    12\n",
       "Name: count, dtype: int64"
      ]
     },
     "execution_count": 15,
     "metadata": {},
     "output_type": "execute_result"
    }
   ],
   "source": [
    "data['en_writer'].value_counts()"
   ]
  },
  {
   "cell_type": "code",
   "execution_count": 16,
   "id": "d792250b",
   "metadata": {
    "execution": {
     "iopub.execute_input": "2023-11-16T13:17:10.116459Z",
     "iopub.status.busy": "2023-11-16T13:17:10.116059Z",
     "iopub.status.idle": "2023-11-16T13:17:10.123695Z",
     "shell.execute_reply": "2023-11-16T13:17:10.122555Z"
    },
    "papermill": {
     "duration": 0.024047,
     "end_time": "2023-11-16T13:17:10.125983",
     "exception": false,
     "start_time": "2023-11-16T13:17:10.101936",
     "status": "completed"
    },
    "tags": []
   },
   "outputs": [
    {
     "data": {
      "text/plain": [
       "Index(['st_state6x3_6', 'state6x6_1', 'state6x6_2', 'state6x6_3', 'state6x6_4',\n",
       "       'state6x6_5', 'state6x6_6', 'state6x6_7', 'state6x6_8', 'state6x6_9',\n",
       "       'state6x6_10', 'state6x6_11', 'state6x6_12', 'state6x6_13',\n",
       "       'state6x6_14', 'state6x6_15', 'state6x6_16', 'state6x6_17',\n",
       "       'state6x6_18', 'state6x6_19', 'state6x6_20', 'state6x6_21',\n",
       "       'state6x6_22', 'state6x6_23', 'state6x6_24', 'state6x6_25',\n",
       "       'state6x6_26', 'state6x6_27', 'state6x6_28', 'state6x6_29',\n",
       "       'state6x6_30', 'state6x6_31', 'state6x6_32', 'state6x6_33',\n",
       "       'state6x6_34', 'state6x6_35', 'state6x6_36', 'st_state7x3_1'],\n",
       "      dtype='object')"
      ]
     },
     "execution_count": 16,
     "metadata": {},
     "output_type": "execute_result"
    }
   ],
   "source": [
    "x = 75\n",
    "sc = data.columns[x:x+38]\n",
    "sc"
   ]
  },
  {
   "cell_type": "code",
   "execution_count": 17,
   "id": "bbcb1cc7",
   "metadata": {
    "execution": {
     "iopub.execute_input": "2023-11-16T13:17:10.154954Z",
     "iopub.status.busy": "2023-11-16T13:17:10.154549Z",
     "iopub.status.idle": "2023-11-16T13:17:10.162104Z",
     "shell.execute_reply": "2023-11-16T13:17:10.160974Z"
    },
    "papermill": {
     "duration": 0.024501,
     "end_time": "2023-11-16T13:17:10.164341",
     "exception": false,
     "start_time": "2023-11-16T13:17:10.139840",
     "status": "completed"
    },
    "tags": []
   },
   "outputs": [],
   "source": [
    "# X = data.drop(['book_id', 'writer', 'punc_state_mat', 'punc_st_state'], axis=1)\n",
    "X = data[sc]\n",
    "# X = data[['mean', 'median', 'mode', 'variance', 'std_dev']]\n",
    "y = data[['book_id', 'writer', 'en_writer']]"
   ]
  },
  {
   "cell_type": "code",
   "execution_count": 18,
   "id": "c404dcfe",
   "metadata": {
    "execution": {
     "iopub.execute_input": "2023-11-16T13:17:10.192230Z",
     "iopub.status.busy": "2023-11-16T13:17:10.191459Z",
     "iopub.status.idle": "2023-11-16T13:17:10.215425Z",
     "shell.execute_reply": "2023-11-16T13:17:10.214351Z"
    },
    "papermill": {
     "duration": 0.040384,
     "end_time": "2023-11-16T13:17:10.217651",
     "exception": false,
     "start_time": "2023-11-16T13:17:10.177267",
     "status": "completed"
    },
    "tags": []
   },
   "outputs": [
    {
     "data": {
      "text/html": [
       "<div>\n",
       "<style scoped>\n",
       "    .dataframe tbody tr th:only-of-type {\n",
       "        vertical-align: middle;\n",
       "    }\n",
       "\n",
       "    .dataframe tbody tr th {\n",
       "        vertical-align: top;\n",
       "    }\n",
       "\n",
       "    .dataframe thead th {\n",
       "        text-align: right;\n",
       "    }\n",
       "</style>\n",
       "<table border=\"1\" class=\"dataframe\">\n",
       "  <thead>\n",
       "    <tr style=\"text-align: right;\">\n",
       "      <th></th>\n",
       "      <th>st_state6x3_6</th>\n",
       "      <th>state6x6_1</th>\n",
       "      <th>state6x6_2</th>\n",
       "      <th>state6x6_3</th>\n",
       "      <th>state6x6_4</th>\n",
       "      <th>state6x6_5</th>\n",
       "      <th>state6x6_6</th>\n",
       "      <th>state6x6_7</th>\n",
       "      <th>state6x6_8</th>\n",
       "      <th>state6x6_9</th>\n",
       "      <th>...</th>\n",
       "      <th>state6x6_28</th>\n",
       "      <th>state6x6_29</th>\n",
       "      <th>state6x6_30</th>\n",
       "      <th>state6x6_31</th>\n",
       "      <th>state6x6_32</th>\n",
       "      <th>state6x6_33</th>\n",
       "      <th>state6x6_34</th>\n",
       "      <th>state6x6_35</th>\n",
       "      <th>state6x6_36</th>\n",
       "      <th>st_state7x3_1</th>\n",
       "    </tr>\n",
       "  </thead>\n",
       "  <tbody>\n",
       "    <tr>\n",
       "      <th>0</th>\n",
       "      <td>0.107831</td>\n",
       "      <td>0.332039</td>\n",
       "      <td>0.281553</td>\n",
       "      <td>0.176699</td>\n",
       "      <td>0.091262</td>\n",
       "      <td>0.050485</td>\n",
       "      <td>0.067961</td>\n",
       "      <td>0.209030</td>\n",
       "      <td>0.274247</td>\n",
       "      <td>0.219064</td>\n",
       "      <td>...</td>\n",
       "      <td>0.165746</td>\n",
       "      <td>0.077348</td>\n",
       "      <td>0.082873</td>\n",
       "      <td>0.185039</td>\n",
       "      <td>0.188976</td>\n",
       "      <td>0.208661</td>\n",
       "      <td>0.145669</td>\n",
       "      <td>0.102362</td>\n",
       "      <td>0.169291</td>\n",
       "      <td>0.217005</td>\n",
       "    </tr>\n",
       "    <tr>\n",
       "      <th>1</th>\n",
       "      <td>0.084808</td>\n",
       "      <td>0.338462</td>\n",
       "      <td>0.282051</td>\n",
       "      <td>0.184615</td>\n",
       "      <td>0.092308</td>\n",
       "      <td>0.056410</td>\n",
       "      <td>0.046154</td>\n",
       "      <td>0.302564</td>\n",
       "      <td>0.230769</td>\n",
       "      <td>0.220513</td>\n",
       "      <td>...</td>\n",
       "      <td>0.153846</td>\n",
       "      <td>0.115385</td>\n",
       "      <td>0.076923</td>\n",
       "      <td>0.123077</td>\n",
       "      <td>0.184615</td>\n",
       "      <td>0.323077</td>\n",
       "      <td>0.107692</td>\n",
       "      <td>0.123077</td>\n",
       "      <td>0.138462</td>\n",
       "      <td>0.255764</td>\n",
       "    </tr>\n",
       "  </tbody>\n",
       "</table>\n",
       "<p>2 rows × 38 columns</p>\n",
       "</div>"
      ],
      "text/plain": [
       "   st_state6x3_6  state6x6_1  state6x6_2  state6x6_3  state6x6_4  state6x6_5  \\\n",
       "0       0.107831    0.332039    0.281553    0.176699    0.091262    0.050485   \n",
       "1       0.084808    0.338462    0.282051    0.184615    0.092308    0.056410   \n",
       "\n",
       "   state6x6_6  state6x6_7  state6x6_8  state6x6_9  ...  state6x6_28  \\\n",
       "0    0.067961    0.209030    0.274247    0.219064  ...     0.165746   \n",
       "1    0.046154    0.302564    0.230769    0.220513  ...     0.153846   \n",
       "\n",
       "   state6x6_29  state6x6_30  state6x6_31  state6x6_32  state6x6_33  \\\n",
       "0     0.077348     0.082873     0.185039     0.188976     0.208661   \n",
       "1     0.115385     0.076923     0.123077     0.184615     0.323077   \n",
       "\n",
       "   state6x6_34  state6x6_35  state6x6_36  st_state7x3_1  \n",
       "0     0.145669     0.102362     0.169291       0.217005  \n",
       "1     0.107692     0.123077     0.138462       0.255764  \n",
       "\n",
       "[2 rows x 38 columns]"
      ]
     },
     "execution_count": 18,
     "metadata": {},
     "output_type": "execute_result"
    }
   ],
   "source": [
    "X.head(2)"
   ]
  },
  {
   "cell_type": "code",
   "execution_count": 19,
   "id": "a1502e96",
   "metadata": {
    "execution": {
     "iopub.execute_input": "2023-11-16T13:17:10.245732Z",
     "iopub.status.busy": "2023-11-16T13:17:10.245327Z",
     "iopub.status.idle": "2023-11-16T13:17:10.255011Z",
     "shell.execute_reply": "2023-11-16T13:17:10.254198Z"
    },
    "papermill": {
     "duration": 0.025989,
     "end_time": "2023-11-16T13:17:10.256774",
     "exception": false,
     "start_time": "2023-11-16T13:17:10.230785",
     "status": "completed"
    },
    "tags": []
   },
   "outputs": [
    {
     "data": {
      "text/html": [
       "<div>\n",
       "<style scoped>\n",
       "    .dataframe tbody tr th:only-of-type {\n",
       "        vertical-align: middle;\n",
       "    }\n",
       "\n",
       "    .dataframe tbody tr th {\n",
       "        vertical-align: top;\n",
       "    }\n",
       "\n",
       "    .dataframe thead th {\n",
       "        text-align: right;\n",
       "    }\n",
       "</style>\n",
       "<table border=\"1\" class=\"dataframe\">\n",
       "  <thead>\n",
       "    <tr style=\"text-align: right;\">\n",
       "      <th></th>\n",
       "      <th>book_id</th>\n",
       "      <th>writer</th>\n",
       "      <th>en_writer</th>\n",
       "    </tr>\n",
       "  </thead>\n",
       "  <tbody>\n",
       "    <tr>\n",
       "      <th>0</th>\n",
       "      <td>feluda_33_Noyon_Rahashya</td>\n",
       "      <td>Satyajit Ray</td>\n",
       "      <td>1</td>\n",
       "    </tr>\n",
       "    <tr>\n",
       "      <th>1</th>\n",
       "      <td>feluda_22_OmborSen_Ontordhan_Rahashya</td>\n",
       "      <td>Satyajit Ray</td>\n",
       "      <td>1</td>\n",
       "    </tr>\n",
       "  </tbody>\n",
       "</table>\n",
       "</div>"
      ],
      "text/plain": [
       "                                 book_id        writer  en_writer\n",
       "0               feluda_33_Noyon_Rahashya  Satyajit Ray          1\n",
       "1  feluda_22_OmborSen_Ontordhan_Rahashya  Satyajit Ray          1"
      ]
     },
     "execution_count": 19,
     "metadata": {},
     "output_type": "execute_result"
    }
   ],
   "source": [
    "y.head(2)"
   ]
  },
  {
   "cell_type": "code",
   "execution_count": 20,
   "id": "a0a71232",
   "metadata": {
    "execution": {
     "iopub.execute_input": "2023-11-16T13:17:10.285538Z",
     "iopub.status.busy": "2023-11-16T13:17:10.285157Z",
     "iopub.status.idle": "2023-11-16T13:17:10.293183Z",
     "shell.execute_reply": "2023-11-16T13:17:10.292130Z"
    },
    "papermill": {
     "duration": 0.025051,
     "end_time": "2023-11-16T13:17:10.295517",
     "exception": false,
     "start_time": "2023-11-16T13:17:10.270466",
     "status": "completed"
    },
    "tags": []
   },
   "outputs": [
    {
     "data": {
      "text/plain": [
       "(71, 18)"
      ]
     },
     "execution_count": 20,
     "metadata": {},
     "output_type": "execute_result"
    }
   ],
   "source": [
    "# Split the data into training and testing sets\n",
    "np.random.seed(42)\n",
    "X_train, X_test, y_train, y_test = train_test_split(X, y, test_size=0.2)\n",
    "len(X_train), len(X_test)"
   ]
  },
  {
   "cell_type": "code",
   "execution_count": 21,
   "id": "d973f52f",
   "metadata": {
    "execution": {
     "iopub.execute_input": "2023-11-16T13:17:10.325115Z",
     "iopub.status.busy": "2023-11-16T13:17:10.324374Z",
     "iopub.status.idle": "2023-11-16T13:17:10.334118Z",
     "shell.execute_reply": "2023-11-16T13:17:10.333099Z"
    },
    "papermill": {
     "duration": 0.027581,
     "end_time": "2023-11-16T13:17:10.336723",
     "exception": false,
     "start_time": "2023-11-16T13:17:10.309142",
     "status": "completed"
    },
    "tags": []
   },
   "outputs": [
    {
     "data": {
      "text/plain": [
       "(en_writer\n",
       " 0    35\n",
       " 1    27\n",
       " 2     9\n",
       " Name: count, dtype: int64,\n",
       " en_writer\n",
       " 1    8\n",
       " 0    7\n",
       " 2    3\n",
       " Name: count, dtype: int64)"
      ]
     },
     "execution_count": 21,
     "metadata": {},
     "output_type": "execute_result"
    }
   ],
   "source": [
    "y_train.en_writer.value_counts(), y_test.en_writer.value_counts()"
   ]
  },
  {
   "cell_type": "code",
   "execution_count": 22,
   "id": "54eb5cef",
   "metadata": {
    "execution": {
     "iopub.execute_input": "2023-11-16T13:17:10.365236Z",
     "iopub.status.busy": "2023-11-16T13:17:10.364838Z",
     "iopub.status.idle": "2023-11-16T13:17:10.374438Z",
     "shell.execute_reply": "2023-11-16T13:17:10.373684Z"
    },
    "papermill": {
     "duration": 0.026092,
     "end_time": "2023-11-16T13:17:10.376359",
     "exception": false,
     "start_time": "2023-11-16T13:17:10.350267",
     "status": "completed"
    },
    "tags": []
   },
   "outputs": [
    {
     "data": {
      "text/html": [
       "<div>\n",
       "<style scoped>\n",
       "    .dataframe tbody tr th:only-of-type {\n",
       "        vertical-align: middle;\n",
       "    }\n",
       "\n",
       "    .dataframe tbody tr th {\n",
       "        vertical-align: top;\n",
       "    }\n",
       "\n",
       "    .dataframe thead th {\n",
       "        text-align: right;\n",
       "    }\n",
       "</style>\n",
       "<table border=\"1\" class=\"dataframe\">\n",
       "  <thead>\n",
       "    <tr style=\"text-align: right;\">\n",
       "      <th></th>\n",
       "      <th>book_id</th>\n",
       "      <th>writer</th>\n",
       "      <th>en_writer</th>\n",
       "    </tr>\n",
       "  </thead>\n",
       "  <tbody>\n",
       "    <tr>\n",
       "      <th>86</th>\n",
       "      <td>MisirAli-11-AmiyMisirAli</td>\n",
       "      <td>Humayun Ahmed</td>\n",
       "      <td>0</td>\n",
       "    </tr>\n",
       "    <tr>\n",
       "      <th>35</th>\n",
       "      <td>JogaJog-1929</td>\n",
       "      <td>Rabindranath</td>\n",
       "      <td>2</td>\n",
       "    </tr>\n",
       "    <tr>\n",
       "      <th>26</th>\n",
       "      <td>feluda_31_Londone_Feluda</td>\n",
       "      <td>Satyajit Ray</td>\n",
       "      <td>1</td>\n",
       "    </tr>\n",
       "    <tr>\n",
       "      <th>48</th>\n",
       "      <td>EkjonHimuoKoektiJijhipoka(1999)</td>\n",
       "      <td>Humayun Ahmed</td>\n",
       "      <td>0</td>\n",
       "    </tr>\n",
       "    <tr>\n",
       "      <th>31</th>\n",
       "      <td>feluda_7_Baksho_Rahashya</td>\n",
       "      <td>Satyajit Ray</td>\n",
       "      <td>1</td>\n",
       "    </tr>\n",
       "  </tbody>\n",
       "</table>\n",
       "</div>"
      ],
      "text/plain": [
       "                            book_id         writer  en_writer\n",
       "86         MisirAli-11-AmiyMisirAli  Humayun Ahmed          0\n",
       "35                     JogaJog-1929   Rabindranath          2\n",
       "26         feluda_31_Londone_Feluda   Satyajit Ray          1\n",
       "48  EkjonHimuoKoektiJijhipoka(1999)  Humayun Ahmed          0\n",
       "31         feluda_7_Baksho_Rahashya   Satyajit Ray          1"
      ]
     },
     "execution_count": 22,
     "metadata": {},
     "output_type": "execute_result"
    }
   ],
   "source": [
    "y_train.head()"
   ]
  },
  {
   "cell_type": "code",
   "execution_count": 23,
   "id": "eb8d2b1f",
   "metadata": {
    "execution": {
     "iopub.execute_input": "2023-11-16T13:17:10.405143Z",
     "iopub.status.busy": "2023-11-16T13:17:10.404757Z",
     "iopub.status.idle": "2023-11-16T13:17:10.846016Z",
     "shell.execute_reply": "2023-11-16T13:17:10.845075Z"
    },
    "papermill": {
     "duration": 0.458316,
     "end_time": "2023-11-16T13:17:10.848292",
     "exception": false,
     "start_time": "2023-11-16T13:17:10.389976",
     "status": "completed"
    },
    "tags": []
   },
   "outputs": [
    {
     "data": {
      "text/html": [
       "<style>#sk-container-id-1 {color: black;background-color: white;}#sk-container-id-1 pre{padding: 0;}#sk-container-id-1 div.sk-toggleable {background-color: white;}#sk-container-id-1 label.sk-toggleable__label {cursor: pointer;display: block;width: 100%;margin-bottom: 0;padding: 0.3em;box-sizing: border-box;text-align: center;}#sk-container-id-1 label.sk-toggleable__label-arrow:before {content: \"▸\";float: left;margin-right: 0.25em;color: #696969;}#sk-container-id-1 label.sk-toggleable__label-arrow:hover:before {color: black;}#sk-container-id-1 div.sk-estimator:hover label.sk-toggleable__label-arrow:before {color: black;}#sk-container-id-1 div.sk-toggleable__content {max-height: 0;max-width: 0;overflow: hidden;text-align: left;background-color: #f0f8ff;}#sk-container-id-1 div.sk-toggleable__content pre {margin: 0.2em;color: black;border-radius: 0.25em;background-color: #f0f8ff;}#sk-container-id-1 input.sk-toggleable__control:checked~div.sk-toggleable__content {max-height: 200px;max-width: 100%;overflow: auto;}#sk-container-id-1 input.sk-toggleable__control:checked~label.sk-toggleable__label-arrow:before {content: \"▾\";}#sk-container-id-1 div.sk-estimator input.sk-toggleable__control:checked~label.sk-toggleable__label {background-color: #d4ebff;}#sk-container-id-1 div.sk-label input.sk-toggleable__control:checked~label.sk-toggleable__label {background-color: #d4ebff;}#sk-container-id-1 input.sk-hidden--visually {border: 0;clip: rect(1px 1px 1px 1px);clip: rect(1px, 1px, 1px, 1px);height: 1px;margin: -1px;overflow: hidden;padding: 0;position: absolute;width: 1px;}#sk-container-id-1 div.sk-estimator {font-family: monospace;background-color: #f0f8ff;border: 1px dotted black;border-radius: 0.25em;box-sizing: border-box;margin-bottom: 0.5em;}#sk-container-id-1 div.sk-estimator:hover {background-color: #d4ebff;}#sk-container-id-1 div.sk-parallel-item::after {content: \"\";width: 100%;border-bottom: 1px solid gray;flex-grow: 1;}#sk-container-id-1 div.sk-label:hover label.sk-toggleable__label {background-color: #d4ebff;}#sk-container-id-1 div.sk-serial::before {content: \"\";position: absolute;border-left: 1px solid gray;box-sizing: border-box;top: 0;bottom: 0;left: 50%;z-index: 0;}#sk-container-id-1 div.sk-serial {display: flex;flex-direction: column;align-items: center;background-color: white;padding-right: 0.2em;padding-left: 0.2em;position: relative;}#sk-container-id-1 div.sk-item {position: relative;z-index: 1;}#sk-container-id-1 div.sk-parallel {display: flex;align-items: stretch;justify-content: center;background-color: white;position: relative;}#sk-container-id-1 div.sk-item::before, #sk-container-id-1 div.sk-parallel-item::before {content: \"\";position: absolute;border-left: 1px solid gray;box-sizing: border-box;top: 0;bottom: 0;left: 50%;z-index: -1;}#sk-container-id-1 div.sk-parallel-item {display: flex;flex-direction: column;z-index: 1;position: relative;background-color: white;}#sk-container-id-1 div.sk-parallel-item:first-child::after {align-self: flex-end;width: 50%;}#sk-container-id-1 div.sk-parallel-item:last-child::after {align-self: flex-start;width: 50%;}#sk-container-id-1 div.sk-parallel-item:only-child::after {width: 0;}#sk-container-id-1 div.sk-dashed-wrapped {border: 1px dashed gray;margin: 0 0.4em 0.5em 0.4em;box-sizing: border-box;padding-bottom: 0.4em;background-color: white;}#sk-container-id-1 div.sk-label label {font-family: monospace;font-weight: bold;display: inline-block;line-height: 1.2em;}#sk-container-id-1 div.sk-label-container {text-align: center;}#sk-container-id-1 div.sk-container {/* jupyter's `normalize.less` sets `[hidden] { display: none; }` but bootstrap.min.css set `[hidden] { display: none !important; }` so we also need the `!important` here to be able to override the default hidden behavior on the sphinx rendered scikit-learn.org. See: https://github.com/scikit-learn/scikit-learn/issues/21755 */display: inline-block !important;position: relative;}#sk-container-id-1 div.sk-text-repr-fallback {display: none;}</style><div id=\"sk-container-id-1\" class=\"sk-top-container\"><div class=\"sk-text-repr-fallback\"><pre>RandomForestClassifier(random_state=42)</pre><b>In a Jupyter environment, please rerun this cell to show the HTML representation or trust the notebook. <br />On GitHub, the HTML representation is unable to render, please try loading this page with nbviewer.org.</b></div><div class=\"sk-container\" hidden><div class=\"sk-item\"><div class=\"sk-estimator sk-toggleable\"><input class=\"sk-toggleable__control sk-hidden--visually\" id=\"sk-estimator-id-1\" type=\"checkbox\" checked><label for=\"sk-estimator-id-1\" class=\"sk-toggleable__label sk-toggleable__label-arrow\">RandomForestClassifier</label><div class=\"sk-toggleable__content\"><pre>RandomForestClassifier(random_state=42)</pre></div></div></div></div></div>"
      ],
      "text/plain": [
       "RandomForestClassifier(random_state=42)"
      ]
     },
     "execution_count": 23,
     "metadata": {},
     "output_type": "execute_result"
    }
   ],
   "source": [
    "from sklearn.ensemble import RandomForestClassifier\n",
    "from sklearn.metrics import accuracy_score, classification_report\n",
    "# Initialize the Random Forest Classifier\n",
    "rf_classifier = RandomForestClassifier(random_state=42)\n",
    "\n",
    "# Train the model\n",
    "rf_classifier.fit(X_train, y_train.en_writer)"
   ]
  },
  {
   "cell_type": "code",
   "execution_count": 24,
   "id": "d8b10cc7",
   "metadata": {
    "execution": {
     "iopub.execute_input": "2023-11-16T13:17:10.877230Z",
     "iopub.status.busy": "2023-11-16T13:17:10.876812Z",
     "iopub.status.idle": "2023-11-16T13:17:10.899078Z",
     "shell.execute_reply": "2023-11-16T13:17:10.898165Z"
    },
    "papermill": {
     "duration": 0.039638,
     "end_time": "2023-11-16T13:17:10.901525",
     "exception": false,
     "start_time": "2023-11-16T13:17:10.861887",
     "status": "completed"
    },
    "tags": []
   },
   "outputs": [],
   "source": [
    "# Make predictions on the test set\n",
    "y_pred = rf_classifier.predict(X_test)\n",
    "\n",
    "# Evaluate the model\n",
    "accuracy = accuracy_score(y_test.en_writer, y_pred)\n",
    "report = classification_report(y_test.en_writer, y_pred)"
   ]
  },
  {
   "cell_type": "code",
   "execution_count": 25,
   "id": "5d0e7e6c",
   "metadata": {
    "execution": {
     "iopub.execute_input": "2023-11-16T13:17:10.931569Z",
     "iopub.status.busy": "2023-11-16T13:17:10.930760Z",
     "iopub.status.idle": "2023-11-16T13:17:10.936760Z",
     "shell.execute_reply": "2023-11-16T13:17:10.935702Z"
    },
    "papermill": {
     "duration": 0.023468,
     "end_time": "2023-11-16T13:17:10.939128",
     "exception": false,
     "start_time": "2023-11-16T13:17:10.915660",
     "status": "completed"
    },
    "tags": []
   },
   "outputs": [
    {
     "name": "stdout",
     "output_type": "stream",
     "text": [
      "[2, 0, 1, 1, 0, 1, 0, 1, 1, 1, 1, 1, 2, 0, 0, 2, 0, 0]\n",
      "[2, 0, 1, 1, 0, 1, 0, 1, 1, 1, 1, 1, 1, 0, 0, 2, 0, 0]\n"
     ]
    }
   ],
   "source": [
    "print(list(y_test.en_writer))\n",
    "print(list(y_pred))"
   ]
  },
  {
   "cell_type": "code",
   "execution_count": 26,
   "id": "d7d1799c",
   "metadata": {
    "execution": {
     "iopub.execute_input": "2023-11-16T13:17:10.969589Z",
     "iopub.status.busy": "2023-11-16T13:17:10.969174Z",
     "iopub.status.idle": "2023-11-16T13:17:10.974832Z",
     "shell.execute_reply": "2023-11-16T13:17:10.973626Z"
    },
    "papermill": {
     "duration": 0.023214,
     "end_time": "2023-11-16T13:17:10.977178",
     "exception": false,
     "start_time": "2023-11-16T13:17:10.953964",
     "status": "completed"
    },
    "tags": []
   },
   "outputs": [
    {
     "name": "stdout",
     "output_type": "stream",
     "text": [
      "Accuracy = 94.44444444444444%\n",
      "              precision    recall  f1-score   support\n",
      "\n",
      "           0       1.00      1.00      1.00         7\n",
      "           1       0.89      1.00      0.94         8\n",
      "           2       1.00      0.67      0.80         3\n",
      "\n",
      "    accuracy                           0.94        18\n",
      "   macro avg       0.96      0.89      0.91        18\n",
      "weighted avg       0.95      0.94      0.94        18\n",
      "\n"
     ]
    }
   ],
   "source": [
    "print(f'Accuracy = {accuracy*100}%')\n",
    "print(report)"
   ]
  },
  {
   "cell_type": "code",
   "execution_count": 27,
   "id": "ab65459f",
   "metadata": {
    "execution": {
     "iopub.execute_input": "2023-11-16T13:17:11.007650Z",
     "iopub.status.busy": "2023-11-16T13:17:11.006709Z",
     "iopub.status.idle": "2023-11-16T13:17:11.022091Z",
     "shell.execute_reply": "2023-11-16T13:17:11.020948Z"
    },
    "papermill": {
     "duration": 0.033706,
     "end_time": "2023-11-16T13:17:11.024879",
     "exception": false,
     "start_time": "2023-11-16T13:17:10.991173",
     "status": "completed"
    },
    "tags": []
   },
   "outputs": [],
   "source": [
    "y_test['prediction'] = rf_classifier.predict(X_test)"
   ]
  },
  {
   "cell_type": "code",
   "execution_count": 28,
   "id": "0bd80a6e",
   "metadata": {
    "execution": {
     "iopub.execute_input": "2023-11-16T13:17:11.055104Z",
     "iopub.status.busy": "2023-11-16T13:17:11.054684Z",
     "iopub.status.idle": "2023-11-16T13:17:11.066238Z",
     "shell.execute_reply": "2023-11-16T13:17:11.065184Z"
    },
    "papermill": {
     "duration": 0.029564,
     "end_time": "2023-11-16T13:17:11.068356",
     "exception": false,
     "start_time": "2023-11-16T13:17:11.038792",
     "status": "completed"
    },
    "tags": []
   },
   "outputs": [
    {
     "data": {
      "text/html": [
       "<div>\n",
       "<style scoped>\n",
       "    .dataframe tbody tr th:only-of-type {\n",
       "        vertical-align: middle;\n",
       "    }\n",
       "\n",
       "    .dataframe tbody tr th {\n",
       "        vertical-align: top;\n",
       "    }\n",
       "\n",
       "    .dataframe thead th {\n",
       "        text-align: right;\n",
       "    }\n",
       "</style>\n",
       "<table border=\"1\" class=\"dataframe\">\n",
       "  <thead>\n",
       "    <tr style=\"text-align: right;\">\n",
       "      <th></th>\n",
       "      <th>book_id</th>\n",
       "      <th>writer</th>\n",
       "      <th>en_writer</th>\n",
       "      <th>prediction</th>\n",
       "    </tr>\n",
       "  </thead>\n",
       "  <tbody>\n",
       "    <tr>\n",
       "      <th>45</th>\n",
       "      <td>BouThakuranirHath-1883</td>\n",
       "      <td>Rabindranath</td>\n",
       "      <td>2</td>\n",
       "      <td>2</td>\n",
       "    </tr>\n",
       "    <tr>\n",
       "      <th>54</th>\n",
       "      <td>Ebong_himu(1995)</td>\n",
       "      <td>Humayun Ahmed</td>\n",
       "      <td>0</td>\n",
       "      <td>0</td>\n",
       "    </tr>\n",
       "    <tr>\n",
       "      <th>30</th>\n",
       "      <td>feluda_3_Koilash_Chowdhurir_pathor</td>\n",
       "      <td>Satyajit Ray</td>\n",
       "      <td>1</td>\n",
       "      <td>1</td>\n",
       "    </tr>\n",
       "    <tr>\n",
       "      <th>12</th>\n",
       "      <td>feluda_1_Feludar_Goendagiri</td>\n",
       "      <td>Satyajit Ray</td>\n",
       "      <td>1</td>\n",
       "      <td>1</td>\n",
       "    </tr>\n",
       "    <tr>\n",
       "      <th>50</th>\n",
       "      <td>HimurDitioProhor(1997)</td>\n",
       "      <td>Humayun Ahmed</td>\n",
       "      <td>0</td>\n",
       "      <td>0</td>\n",
       "    </tr>\n",
       "    <tr>\n",
       "      <th>0</th>\n",
       "      <td>feluda_33_Noyon_Rahashya</td>\n",
       "      <td>Satyajit Ray</td>\n",
       "      <td>1</td>\n",
       "      <td>1</td>\n",
       "    </tr>\n",
       "    <tr>\n",
       "      <th>65</th>\n",
       "      <td>Himu(1993)</td>\n",
       "      <td>Humayun Ahmed</td>\n",
       "      <td>0</td>\n",
       "      <td>0</td>\n",
       "    </tr>\n",
       "    <tr>\n",
       "      <th>18</th>\n",
       "      <td>feluda_34_Robertsoner_Rubi</td>\n",
       "      <td>Satyajit Ray</td>\n",
       "      <td>1</td>\n",
       "      <td>1</td>\n",
       "    </tr>\n",
       "    <tr>\n",
       "      <th>10</th>\n",
       "      <td>feluda_27_Vushorgo_Bhoyonkor</td>\n",
       "      <td>Satyajit Ray</td>\n",
       "      <td>1</td>\n",
       "      <td>1</td>\n",
       "    </tr>\n",
       "    <tr>\n",
       "      <th>22</th>\n",
       "      <td>feluda_10_Royal_Bengal_Rahashya</td>\n",
       "      <td>Satyajit Ray</td>\n",
       "      <td>1</td>\n",
       "      <td>1</td>\n",
       "    </tr>\n",
       "    <tr>\n",
       "      <th>4</th>\n",
       "      <td>feluda_19_JotoKando_Kathmandute</td>\n",
       "      <td>Satyajit Ray</td>\n",
       "      <td>1</td>\n",
       "      <td>1</td>\n",
       "    </tr>\n",
       "    <tr>\n",
       "      <th>33</th>\n",
       "      <td>feluda_17_Hottyapuri</td>\n",
       "      <td>Satyajit Ray</td>\n",
       "      <td>1</td>\n",
       "      <td>1</td>\n",
       "    </tr>\n",
       "    <tr>\n",
       "      <th>43</th>\n",
       "      <td>CharOddhay1934</td>\n",
       "      <td>Rabindranath</td>\n",
       "      <td>2</td>\n",
       "      <td>1</td>\n",
       "    </tr>\n",
       "    <tr>\n",
       "      <th>81</th>\n",
       "      <td>MisirAli-6-Bhoy</td>\n",
       "      <td>Humayun Ahmed</td>\n",
       "      <td>0</td>\n",
       "      <td>0</td>\n",
       "    </tr>\n",
       "    <tr>\n",
       "      <th>82</th>\n",
       "      <td>MisirAli-14-MisirAlirChosma</td>\n",
       "      <td>Humayun Ahmed</td>\n",
       "      <td>0</td>\n",
       "      <td>0</td>\n",
       "    </tr>\n",
       "    <tr>\n",
       "      <th>39</th>\n",
       "      <td>ChokherBali1903</td>\n",
       "      <td>Rabindranath</td>\n",
       "      <td>2</td>\n",
       "      <td>2</td>\n",
       "    </tr>\n",
       "    <tr>\n",
       "      <th>78</th>\n",
       "      <td>MisirAli-1-Debi</td>\n",
       "      <td>Humayun Ahmed</td>\n",
       "      <td>0</td>\n",
       "      <td>0</td>\n",
       "    </tr>\n",
       "    <tr>\n",
       "      <th>62</th>\n",
       "      <td>HimurModdhodupur(2009)</td>\n",
       "      <td>Humayun Ahmed</td>\n",
       "      <td>0</td>\n",
       "      <td>0</td>\n",
       "    </tr>\n",
       "  </tbody>\n",
       "</table>\n",
       "</div>"
      ],
      "text/plain": [
       "                               book_id         writer  en_writer  prediction\n",
       "45              BouThakuranirHath-1883   Rabindranath          2           2\n",
       "54                    Ebong_himu(1995)  Humayun Ahmed          0           0\n",
       "30  feluda_3_Koilash_Chowdhurir_pathor   Satyajit Ray          1           1\n",
       "12         feluda_1_Feludar_Goendagiri   Satyajit Ray          1           1\n",
       "50              HimurDitioProhor(1997)  Humayun Ahmed          0           0\n",
       "0             feluda_33_Noyon_Rahashya   Satyajit Ray          1           1\n",
       "65                          Himu(1993)  Humayun Ahmed          0           0\n",
       "18          feluda_34_Robertsoner_Rubi   Satyajit Ray          1           1\n",
       "10        feluda_27_Vushorgo_Bhoyonkor   Satyajit Ray          1           1\n",
       "22     feluda_10_Royal_Bengal_Rahashya   Satyajit Ray          1           1\n",
       "4      feluda_19_JotoKando_Kathmandute   Satyajit Ray          1           1\n",
       "33                feluda_17_Hottyapuri   Satyajit Ray          1           1\n",
       "43                      CharOddhay1934   Rabindranath          2           1\n",
       "81                     MisirAli-6-Bhoy  Humayun Ahmed          0           0\n",
       "82         MisirAli-14-MisirAlirChosma  Humayun Ahmed          0           0\n",
       "39                     ChokherBali1903   Rabindranath          2           2\n",
       "78                     MisirAli-1-Debi  Humayun Ahmed          0           0\n",
       "62              HimurModdhodupur(2009)  Humayun Ahmed          0           0"
      ]
     },
     "execution_count": 28,
     "metadata": {},
     "output_type": "execute_result"
    }
   ],
   "source": [
    "y_test"
   ]
  },
  {
   "cell_type": "code",
   "execution_count": 29,
   "id": "ca1ba060",
   "metadata": {
    "execution": {
     "iopub.execute_input": "2023-11-16T13:17:11.099355Z",
     "iopub.status.busy": "2023-11-16T13:17:11.098972Z",
     "iopub.status.idle": "2023-11-16T13:17:11.107744Z",
     "shell.execute_reply": "2023-11-16T13:17:11.106538Z"
    },
    "papermill": {
     "duration": 0.027994,
     "end_time": "2023-11-16T13:17:11.110650",
     "exception": false,
     "start_time": "2023-11-16T13:17:11.082656",
     "status": "completed"
    },
    "tags": []
   },
   "outputs": [
    {
     "data": {
      "text/plain": [
       "Index(['st_state6x3_6', 'state6x6_1', 'state6x6_2', 'state6x6_3', 'state6x6_4',\n",
       "       'state6x6_5', 'state6x6_6', 'state6x6_7', 'state6x6_8', 'state6x6_9',\n",
       "       'state6x6_10', 'state6x6_11', 'state6x6_12', 'state6x6_13',\n",
       "       'state6x6_14', 'state6x6_15', 'state6x6_16', 'state6x6_17',\n",
       "       'state6x6_18', 'state6x6_19', 'state6x6_20', 'state6x6_21',\n",
       "       'state6x6_22', 'state6x6_23', 'state6x6_24', 'state6x6_25',\n",
       "       'state6x6_26', 'state6x6_27', 'state6x6_28', 'state6x6_29',\n",
       "       'state6x6_30', 'state6x6_31', 'state6x6_32', 'state6x6_33',\n",
       "       'state6x6_34', 'state6x6_35', 'state6x6_36', 'st_state7x3_1'],\n",
       "      dtype='object')"
      ]
     },
     "execution_count": 29,
     "metadata": {},
     "output_type": "execute_result"
    }
   ],
   "source": [
    "x = 75\n",
    "sc = data.columns[x:x+38]\n",
    "sc"
   ]
  },
  {
   "cell_type": "code",
   "execution_count": 30,
   "id": "71e386a7",
   "metadata": {
    "execution": {
     "iopub.execute_input": "2023-11-16T13:17:11.146804Z",
     "iopub.status.busy": "2023-11-16T13:17:11.146401Z",
     "iopub.status.idle": "2023-11-16T13:17:11.154233Z",
     "shell.execute_reply": "2023-11-16T13:17:11.152704Z"
    },
    "papermill": {
     "duration": 0.029629,
     "end_time": "2023-11-16T13:17:11.156427",
     "exception": false,
     "start_time": "2023-11-16T13:17:11.126798",
     "status": "completed"
    },
    "tags": []
   },
   "outputs": [],
   "source": [
    "# X = data.drop(['book_id', 'writer', 'punc_state_mat', 'punc_st_state'], axis=1)\n",
    "X = data[sc]\n",
    "# X = data[['mean', 'median', 'mode', 'variance', 'std_dev']]\n",
    "y = data[['book_id', 'writer', 'en_writer']]"
   ]
  },
  {
   "cell_type": "code",
   "execution_count": 31,
   "id": "6308c474",
   "metadata": {
    "execution": {
     "iopub.execute_input": "2023-11-16T13:17:11.195734Z",
     "iopub.status.busy": "2023-11-16T13:17:11.194905Z",
     "iopub.status.idle": "2023-11-16T13:17:12.071426Z",
     "shell.execute_reply": "2023-11-16T13:17:12.070094Z"
    },
    "papermill": {
     "duration": 0.898273,
     "end_time": "2023-11-16T13:17:12.074376",
     "exception": false,
     "start_time": "2023-11-16T13:17:11.176103",
     "status": "completed"
    },
    "tags": []
   },
   "outputs": [
    {
     "name": "stdout",
     "output_type": "stream",
     "text": [
      "Cross-Validation Scores: [1.         0.94444444 0.94444444 1.         0.94117647]\n",
      "Mean Score: 0.9660130718954247\n",
      "Standard Deviation: 0.02777585537369384\n"
     ]
    }
   ],
   "source": [
    "from sklearn.model_selection import cross_val_score\n",
    "\n",
    "# Perform cross-validation and get scores\n",
    "\n",
    "model = RandomForestClassifier(n_estimators=100)\n",
    "scores = cross_val_score(model, X, y.en_writer, cv=5)\n",
    "print(\"Cross-Validation Scores:\", scores)\n",
    "\n",
    "\n",
    "print(\"Mean Score:\", scores.mean())\n",
    "print(\"Standard Deviation:\", scores.std())"
   ]
  },
  {
   "cell_type": "code",
   "execution_count": 32,
   "id": "2685a983",
   "metadata": {
    "execution": {
     "iopub.execute_input": "2023-11-16T13:17:12.105556Z",
     "iopub.status.busy": "2023-11-16T13:17:12.104894Z",
     "iopub.status.idle": "2023-11-16T13:17:17.999355Z",
     "shell.execute_reply": "2023-11-16T13:17:17.998113Z"
    },
    "papermill": {
     "duration": 5.913443,
     "end_time": "2023-11-16T13:17:18.002451",
     "exception": false,
     "start_time": "2023-11-16T13:17:12.089008",
     "status": "completed"
    },
    "tags": []
   },
   "outputs": [
    {
     "name": "stdout",
     "output_type": "stream",
     "text": [
      "Mean Score: 0.9545454545454546\n",
      "Mean Score: 0.9659090909090909\n",
      "Mean Score: 0.9550395256916996\n",
      "Mean Score: 0.9659090909090909\n",
      "Mean Score: 0.9659090909090909\n",
      "Mean Score: 0.9659090909090909\n",
      "Mean Score: 0.9659090909090909\n",
      "Mean Score: 0.9659090909090909\n",
      "Mean Score: 0.9550395256916996\n"
     ]
    }
   ],
   "source": [
    "for i in range(1, 10):\n",
    "    model = RandomForestClassifier(n_estimators=100, random_state = i)\n",
    "    scores = cross_val_score(model, X, y.en_writer, cv=4)\n",
    "    print(\"Mean Score:\", scores.mean())\n"
   ]
  },
  {
   "cell_type": "code",
   "execution_count": 33,
   "id": "9ab5a4c8",
   "metadata": {
    "execution": {
     "iopub.execute_input": "2023-11-16T13:17:18.035552Z",
     "iopub.status.busy": "2023-11-16T13:17:18.035138Z",
     "iopub.status.idle": "2023-11-16T13:17:18.057685Z",
     "shell.execute_reply": "2023-11-16T13:17:18.056872Z"
    },
    "papermill": {
     "duration": 0.04186,
     "end_time": "2023-11-16T13:17:18.059900",
     "exception": false,
     "start_time": "2023-11-16T13:17:18.018040",
     "status": "completed"
    },
    "tags": []
   },
   "outputs": [
    {
     "data": {
      "text/html": [
       "<div>\n",
       "<style scoped>\n",
       "    .dataframe tbody tr th:only-of-type {\n",
       "        vertical-align: middle;\n",
       "    }\n",
       "\n",
       "    .dataframe tbody tr th {\n",
       "        vertical-align: top;\n",
       "    }\n",
       "\n",
       "    .dataframe thead th {\n",
       "        text-align: right;\n",
       "    }\n",
       "</style>\n",
       "<table border=\"1\" class=\"dataframe\">\n",
       "  <thead>\n",
       "    <tr style=\"text-align: right;\">\n",
       "      <th></th>\n",
       "      <th>book_id</th>\n",
       "      <th>writer</th>\n",
       "      <th>st_state5x3_1</th>\n",
       "      <th>st_state5x3_2</th>\n",
       "      <th>st_state5x3_3</th>\n",
       "      <th>st_state5x3_4</th>\n",
       "      <th>st_state5x3_5</th>\n",
       "      <th>state5x5_1</th>\n",
       "      <th>state5x5_2</th>\n",
       "      <th>state5x5_3</th>\n",
       "      <th>...</th>\n",
       "      <th>state7x7_48</th>\n",
       "      <th>state7x7_49</th>\n",
       "      <th>mean</th>\n",
       "      <th>median</th>\n",
       "      <th>mode</th>\n",
       "      <th>variance</th>\n",
       "      <th>std_dev</th>\n",
       "      <th>punc_state_mat</th>\n",
       "      <th>punc_st_state</th>\n",
       "      <th>en_writer</th>\n",
       "    </tr>\n",
       "  </thead>\n",
       "  <tbody>\n",
       "    <tr>\n",
       "      <th>0</th>\n",
       "      <td>feluda_33_Noyon_Rahashya</td>\n",
       "      <td>Satyajit Ray</td>\n",
       "      <td>0.218364</td>\n",
       "      <td>0.253602</td>\n",
       "      <td>0.207741</td>\n",
       "      <td>0.138053</td>\n",
       "      <td>0.182240</td>\n",
       "      <td>0.332685</td>\n",
       "      <td>0.282101</td>\n",
       "      <td>0.177043</td>\n",
       "      <td>...</td>\n",
       "      <td>0.072464</td>\n",
       "      <td>0.094203</td>\n",
       "      <td>8.076395</td>\n",
       "      <td>7.0</td>\n",
       "      <td>5</td>\n",
       "      <td>31.971834</td>\n",
       "      <td>5.654364</td>\n",
       "      <td>[[0.52 0.13 0.03 0.32]\\n [0.52 0.11 0.03 0.34]...</td>\n",
       "      <td>[0.56 0.11 0.04 0.29]</td>\n",
       "      <td>1</td>\n",
       "    </tr>\n",
       "    <tr>\n",
       "      <th>1</th>\n",
       "      <td>feluda_22_OmborSen_Ontordhan_Rahashya</td>\n",
       "      <td>Satyajit Ray</td>\n",
       "      <td>0.261259</td>\n",
       "      <td>0.261148</td>\n",
       "      <td>0.217963</td>\n",
       "      <td>0.113027</td>\n",
       "      <td>0.146602</td>\n",
       "      <td>0.340206</td>\n",
       "      <td>0.283505</td>\n",
       "      <td>0.185567</td>\n",
       "      <td>...</td>\n",
       "      <td>0.058824</td>\n",
       "      <td>0.147059</td>\n",
       "      <td>7.318498</td>\n",
       "      <td>6.0</td>\n",
       "      <td>3</td>\n",
       "      <td>27.927666</td>\n",
       "      <td>5.284663</td>\n",
       "      <td>[[0.53 0.14 0.03 0.31]\\n [0.64 0.07 0.06 0.23]...</td>\n",
       "      <td>[0.55 0.12 0.04 0.29]</td>\n",
       "      <td>1</td>\n",
       "    </tr>\n",
       "    <tr>\n",
       "      <th>2</th>\n",
       "      <td>feluda_13_Bombayer_Bombete</td>\n",
       "      <td>Satyajit Ray</td>\n",
       "      <td>0.161039</td>\n",
       "      <td>0.231818</td>\n",
       "      <td>0.218831</td>\n",
       "      <td>0.153247</td>\n",
       "      <td>0.235065</td>\n",
       "      <td>0.286290</td>\n",
       "      <td>0.298387</td>\n",
       "      <td>0.161290</td>\n",
       "      <td>...</td>\n",
       "      <td>0.078014</td>\n",
       "      <td>0.134752</td>\n",
       "      <td>9.295515</td>\n",
       "      <td>8.0</td>\n",
       "      <td>6</td>\n",
       "      <td>45.507333</td>\n",
       "      <td>6.745912</td>\n",
       "      <td>[[0.51 0.08 0.03 0.38]\\n [0.46 0.17 0.04 0.33]...</td>\n",
       "      <td>[0.55 0.09 0.03 0.33]</td>\n",
       "      <td>1</td>\n",
       "    </tr>\n",
       "  </tbody>\n",
       "</table>\n",
       "<p>3 rows × 176 columns</p>\n",
       "</div>"
      ],
      "text/plain": [
       "                                 book_id        writer  st_state5x3_1  \\\n",
       "0               feluda_33_Noyon_Rahashya  Satyajit Ray       0.218364   \n",
       "1  feluda_22_OmborSen_Ontordhan_Rahashya  Satyajit Ray       0.261259   \n",
       "2             feluda_13_Bombayer_Bombete  Satyajit Ray       0.161039   \n",
       "\n",
       "   st_state5x3_2  st_state5x3_3  st_state5x3_4  st_state5x3_5  state5x5_1  \\\n",
       "0       0.253602       0.207741       0.138053       0.182240    0.332685   \n",
       "1       0.261148       0.217963       0.113027       0.146602    0.340206   \n",
       "2       0.231818       0.218831       0.153247       0.235065    0.286290   \n",
       "\n",
       "   state5x5_2  state5x5_3  ...  state7x7_48  state7x7_49      mean  median  \\\n",
       "0    0.282101    0.177043  ...     0.072464     0.094203  8.076395     7.0   \n",
       "1    0.283505    0.185567  ...     0.058824     0.147059  7.318498     6.0   \n",
       "2    0.298387    0.161290  ...     0.078014     0.134752  9.295515     8.0   \n",
       "\n",
       "   mode   variance   std_dev  \\\n",
       "0     5  31.971834  5.654364   \n",
       "1     3  27.927666  5.284663   \n",
       "2     6  45.507333  6.745912   \n",
       "\n",
       "                                      punc_state_mat          punc_st_state  \\\n",
       "0  [[0.52 0.13 0.03 0.32]\\n [0.52 0.11 0.03 0.34]...  [0.56 0.11 0.04 0.29]   \n",
       "1  [[0.53 0.14 0.03 0.31]\\n [0.64 0.07 0.06 0.23]...  [0.55 0.12 0.04 0.29]   \n",
       "2  [[0.51 0.08 0.03 0.38]\\n [0.46 0.17 0.04 0.33]...  [0.55 0.09 0.03 0.33]   \n",
       "\n",
       "   en_writer  \n",
       "0          1  \n",
       "1          1  \n",
       "2          1  \n",
       "\n",
       "[3 rows x 176 columns]"
      ]
     },
     "execution_count": 33,
     "metadata": {},
     "output_type": "execute_result"
    }
   ],
   "source": [
    "data.head(3)"
   ]
  },
  {
   "cell_type": "code",
   "execution_count": 34,
   "id": "eda6ad60",
   "metadata": {
    "execution": {
     "iopub.execute_input": "2023-11-16T13:17:18.093736Z",
     "iopub.status.busy": "2023-11-16T13:17:18.093272Z",
     "iopub.status.idle": "2023-11-16T13:17:21.739708Z",
     "shell.execute_reply": "2023-11-16T13:17:21.738371Z"
    },
    "papermill": {
     "duration": 3.666449,
     "end_time": "2023-11-16T13:17:21.742318",
     "exception": false,
     "start_time": "2023-11-16T13:17:18.075869",
     "status": "completed"
    },
    "tags": []
   },
   "outputs": [],
   "source": [
    "# PyTorch\n",
    "import torch\n",
    "from torch import nn"
   ]
  },
  {
   "cell_type": "code",
   "execution_count": 35,
   "id": "281086a3",
   "metadata": {
    "execution": {
     "iopub.execute_input": "2023-11-16T13:17:21.775863Z",
     "iopub.status.busy": "2023-11-16T13:17:21.774768Z",
     "iopub.status.idle": "2023-11-16T13:17:21.782179Z",
     "shell.execute_reply": "2023-11-16T13:17:21.781152Z"
    },
    "papermill": {
     "duration": 0.026175,
     "end_time": "2023-11-16T13:17:21.784575",
     "exception": false,
     "start_time": "2023-11-16T13:17:21.758400",
     "status": "completed"
    },
    "tags": []
   },
   "outputs": [
    {
     "data": {
      "text/plain": [
       "'cpu'"
      ]
     },
     "execution_count": 35,
     "metadata": {},
     "output_type": "execute_result"
    }
   ],
   "source": [
    "# Make device agnostic code\n",
    "device = \"cuda\" if torch.cuda.is_available() else \"cpu\"\n",
    "device"
   ]
  },
  {
   "cell_type": "code",
   "execution_count": 36,
   "id": "fa3a20b2",
   "metadata": {
    "execution": {
     "iopub.execute_input": "2023-11-16T13:17:21.818490Z",
     "iopub.status.busy": "2023-11-16T13:17:21.818096Z",
     "iopub.status.idle": "2023-11-16T13:17:21.828378Z",
     "shell.execute_reply": "2023-11-16T13:17:21.827291Z"
    },
    "papermill": {
     "duration": 0.029912,
     "end_time": "2023-11-16T13:17:21.830605",
     "exception": false,
     "start_time": "2023-11-16T13:17:21.800693",
     "status": "completed"
    },
    "tags": []
   },
   "outputs": [
    {
     "data": {
      "text/html": [
       "<div>\n",
       "<style scoped>\n",
       "    .dataframe tbody tr th:only-of-type {\n",
       "        vertical-align: middle;\n",
       "    }\n",
       "\n",
       "    .dataframe tbody tr th {\n",
       "        vertical-align: top;\n",
       "    }\n",
       "\n",
       "    .dataframe thead th {\n",
       "        text-align: right;\n",
       "    }\n",
       "</style>\n",
       "<table border=\"1\" class=\"dataframe\">\n",
       "  <thead>\n",
       "    <tr style=\"text-align: right;\">\n",
       "      <th></th>\n",
       "      <th>book_id</th>\n",
       "      <th>writer</th>\n",
       "      <th>en_writer</th>\n",
       "    </tr>\n",
       "  </thead>\n",
       "  <tbody>\n",
       "    <tr>\n",
       "      <th>0</th>\n",
       "      <td>feluda_33_Noyon_Rahashya</td>\n",
       "      <td>Satyajit Ray</td>\n",
       "      <td>1</td>\n",
       "    </tr>\n",
       "    <tr>\n",
       "      <th>1</th>\n",
       "      <td>feluda_22_OmborSen_Ontordhan_Rahashya</td>\n",
       "      <td>Satyajit Ray</td>\n",
       "      <td>1</td>\n",
       "    </tr>\n",
       "  </tbody>\n",
       "</table>\n",
       "</div>"
      ],
      "text/plain": [
       "                                 book_id        writer  en_writer\n",
       "0               feluda_33_Noyon_Rahashya  Satyajit Ray          1\n",
       "1  feluda_22_OmborSen_Ontordhan_Rahashya  Satyajit Ray          1"
      ]
     },
     "execution_count": 36,
     "metadata": {},
     "output_type": "execute_result"
    }
   ],
   "source": [
    "y.head(2)"
   ]
  },
  {
   "cell_type": "code",
   "execution_count": 37,
   "id": "778cd49e",
   "metadata": {
    "execution": {
     "iopub.execute_input": "2023-11-16T13:17:21.863701Z",
     "iopub.status.busy": "2023-11-16T13:17:21.863032Z",
     "iopub.status.idle": "2023-11-16T13:17:21.905321Z",
     "shell.execute_reply": "2023-11-16T13:17:21.904032Z"
    },
    "papermill": {
     "duration": 0.061703,
     "end_time": "2023-11-16T13:17:21.907916",
     "exception": false,
     "start_time": "2023-11-16T13:17:21.846213",
     "status": "completed"
    },
    "tags": []
   },
   "outputs": [],
   "source": [
    "# Turn data into tensors\n",
    "# Otherwise this causes issues with computations later on\n",
    "\n",
    "# Convert to PyTorch tensors\n",
    "X_tensor = torch.tensor(X.values, dtype=torch.float)\n",
    "y_tensor = torch.tensor(y.en_writer.values, dtype=torch.long)"
   ]
  },
  {
   "cell_type": "code",
   "execution_count": 38,
   "id": "85047289",
   "metadata": {
    "execution": {
     "iopub.execute_input": "2023-11-16T13:17:21.940430Z",
     "iopub.status.busy": "2023-11-16T13:17:21.940004Z",
     "iopub.status.idle": "2023-11-16T13:17:21.969994Z",
     "shell.execute_reply": "2023-11-16T13:17:21.968708Z"
    },
    "papermill": {
     "duration": 0.048783,
     "end_time": "2023-11-16T13:17:21.972153",
     "exception": false,
     "start_time": "2023-11-16T13:17:21.923370",
     "status": "completed"
    },
    "tags": []
   },
   "outputs": [
    {
     "name": "stdout",
     "output_type": "stream",
     "text": [
      "X Tensor:\n",
      "torch.Size([89, 38])\n",
      "y Tensor:\n",
      "tensor([1, 1, 1, 1, 1, 1, 1, 1, 1, 1, 1, 1, 1, 1, 1, 1, 1, 1, 1, 1, 1, 1, 1, 1,\n",
      "        1, 1, 1, 1, 1, 1, 1, 1, 1, 1, 1, 2, 2, 2, 2, 2, 2, 2, 2, 2, 2, 2, 2, 0,\n",
      "        0, 0, 0, 0, 0, 0, 0, 0, 0, 0, 0, 0, 0, 0, 0, 0, 0, 0, 0, 0, 0, 0, 0, 0,\n",
      "        0, 0, 0, 0, 0, 0, 0, 0, 0, 0, 0, 0, 0, 0, 0, 0, 0])\n"
     ]
    }
   ],
   "source": [
    "# Display the tensors\n",
    "print(\"X Tensor:\")\n",
    "print(X_tensor.shape)\n",
    "print(\"y Tensor:\")\n",
    "print(y_tensor)"
   ]
  },
  {
   "cell_type": "code",
   "execution_count": 39,
   "id": "2e6b5b2d",
   "metadata": {
    "execution": {
     "iopub.execute_input": "2023-11-16T13:17:22.005909Z",
     "iopub.status.busy": "2023-11-16T13:17:22.004849Z",
     "iopub.status.idle": "2023-11-16T13:17:22.026657Z",
     "shell.execute_reply": "2023-11-16T13:17:22.025449Z"
    },
    "papermill": {
     "duration": 0.041243,
     "end_time": "2023-11-16T13:17:22.029096",
     "exception": false,
     "start_time": "2023-11-16T13:17:21.987853",
     "status": "completed"
    },
    "tags": []
   },
   "outputs": [
    {
     "data": {
      "text/plain": [
       "(75, 14, 75, 14)"
      ]
     },
     "execution_count": 39,
     "metadata": {},
     "output_type": "execute_result"
    }
   ],
   "source": [
    "# Split data into train and test sets\n",
    "from sklearn.model_selection import train_test_split\n",
    "\n",
    "X_train, X_test, y_train, y_test = train_test_split(X_tensor,\n",
    "                                                   y_tensor, \n",
    "                                                   test_size=0.15,\n",
    "                                                   random_state=42)\n",
    "\n",
    "len(X_train), len(X_test), len(y_train), len(y_test)"
   ]
  },
  {
   "cell_type": "code",
   "execution_count": 40,
   "id": "d8a029d2",
   "metadata": {
    "execution": {
     "iopub.execute_input": "2023-11-16T13:17:22.063072Z",
     "iopub.status.busy": "2023-11-16T13:17:22.062673Z",
     "iopub.status.idle": "2023-11-16T13:17:22.086019Z",
     "shell.execute_reply": "2023-11-16T13:17:22.084790Z"
    },
    "papermill": {
     "duration": 0.043623,
     "end_time": "2023-11-16T13:17:22.088477",
     "exception": false,
     "start_time": "2023-11-16T13:17:22.044854",
     "status": "completed"
    },
    "tags": []
   },
   "outputs": [
    {
     "data": {
      "text/plain": [
       "SpiralModel(\n",
       "  (linear_layer_stack): Sequential(\n",
       "    (0): Linear(in_features=38, out_features=50, bias=True)\n",
       "    (1): ReLU()\n",
       "    (2): Linear(in_features=50, out_features=100, bias=True)\n",
       "    (3): Linear(in_features=100, out_features=1000, bias=True)\n",
       "    (4): ReLU()\n",
       "    (5): Linear(in_features=1000, out_features=100, bias=True)\n",
       "    (6): Linear(in_features=100, out_features=3, bias=True)\n",
       "  )\n",
       ")"
      ]
     },
     "execution_count": 40,
     "metadata": {},
     "output_type": "execute_result"
    }
   ],
   "source": [
    "class SpiralModel(nn.Module):\n",
    "    def __init__(self, input_features, output_features, hidden_units=8):\n",
    "        \n",
    "        \"\"\"Initializes all required hyperparameters for a multi-class classification model.\n",
    "\n",
    "        Args:\n",
    "            input_features (int): Number of input features to the model.\n",
    "            out_features (int): Number of output features of the model\n",
    "              (how many classes there are).\n",
    "            hidden_units (int): Number of hidden units between layers, default 8.\n",
    "        \"\"\"\n",
    "        super().__init__()\n",
    "        self.linear_layer_stack = nn.Sequential(\n",
    "            nn.Linear(in_features=input_features, out_features=50),\n",
    "            nn.ReLU(),\n",
    "            nn.Linear(in_features=50, out_features=hidden_units**2),\n",
    "            nn.Linear(in_features=hidden_units**2, out_features=hidden_units**3),\n",
    "            nn.ReLU(),\n",
    "            nn.Linear(in_features=hidden_units**3, out_features=hidden_units**2),\n",
    "            nn.Linear(in_features=hidden_units**2, out_features=output_features),\n",
    "\n",
    "        )\n",
    "        \n",
    "    def forward(self, x):\n",
    "        return self.linear_layer_stack(x)\n",
    "        \n",
    "        \n",
    "\n",
    "# Create an instance of BlobModel and send it to the target device\n",
    "model_5 = SpiralModel(input_features=38, \n",
    "                    output_features=3, \n",
    "                    hidden_units=10).to(device)\n",
    "model_5"
   ]
  },
  {
   "cell_type": "code",
   "execution_count": 41,
   "id": "bd1644f1",
   "metadata": {
    "execution": {
     "iopub.execute_input": "2023-11-16T13:17:22.123517Z",
     "iopub.status.busy": "2023-11-16T13:17:22.122438Z",
     "iopub.status.idle": "2023-11-16T13:17:22.128484Z",
     "shell.execute_reply": "2023-11-16T13:17:22.127400Z"
    },
    "papermill": {
     "duration": 0.025973,
     "end_time": "2023-11-16T13:17:22.130688",
     "exception": false,
     "start_time": "2023-11-16T13:17:22.104715",
     "status": "completed"
    },
    "tags": []
   },
   "outputs": [],
   "source": [
    "# Create loss and optimizer\n",
    "loss_fn = nn.CrossEntropyLoss()\n",
    "optimizer = torch.optim.Adam(model_5.parameters(), \n",
    "                            lr=0.0003)"
   ]
  },
  {
   "cell_type": "code",
   "execution_count": 42,
   "id": "8e7cba58",
   "metadata": {
    "execution": {
     "iopub.execute_input": "2023-11-16T13:17:22.164995Z",
     "iopub.status.busy": "2023-11-16T13:17:22.164590Z",
     "iopub.status.idle": "2023-11-16T13:17:22.243066Z",
     "shell.execute_reply": "2023-11-16T13:17:22.241914Z"
    },
    "papermill": {
     "duration": 0.098409,
     "end_time": "2023-11-16T13:17:22.245466",
     "exception": false,
     "start_time": "2023-11-16T13:17:22.147057",
     "status": "completed"
    },
    "tags": []
   },
   "outputs": [
    {
     "data": {
      "text/plain": [
       "tensor([[ 0.1061,  0.0902, -0.0909],\n",
       "        [ 0.1028,  0.0964, -0.0904],\n",
       "        [ 0.1063,  0.0917, -0.0909],\n",
       "        [ 0.1049,  0.0898, -0.0908],\n",
       "        [ 0.1041,  0.0971, -0.0895]], grad_fn=<SliceBackward0>)"
      ]
     },
     "execution_count": 42,
     "metadata": {},
     "output_type": "execute_result"
    }
   ],
   "source": [
    "y_logits = model_5(X_test)\n",
    "y_logits[:5]"
   ]
  },
  {
   "cell_type": "code",
   "execution_count": 43,
   "id": "0ea7d2fa",
   "metadata": {
    "execution": {
     "iopub.execute_input": "2023-11-16T13:17:22.280507Z",
     "iopub.status.busy": "2023-11-16T13:17:22.279520Z",
     "iopub.status.idle": "2023-11-16T13:17:22.291464Z",
     "shell.execute_reply": "2023-11-16T13:17:22.290593Z"
    },
    "papermill": {
     "duration": 0.031499,
     "end_time": "2023-11-16T13:17:22.293778",
     "exception": false,
     "start_time": "2023-11-16T13:17:22.262279",
     "status": "completed"
    },
    "tags": []
   },
   "outputs": [
    {
     "data": {
      "text/plain": [
       "tensor([[0.3565, 0.3508, 0.2927],\n",
       "        [0.3549, 0.3526, 0.2925],\n",
       "        [0.3563, 0.3511, 0.2925],\n",
       "        [0.3562, 0.3509, 0.2929],\n",
       "        [0.3550, 0.3525, 0.2925]], grad_fn=<SliceBackward0>)"
      ]
     },
     "execution_count": 43,
     "metadata": {},
     "output_type": "execute_result"
    }
   ],
   "source": [
    "y_pred_probs = torch.softmax(y_logits, dim=1)\n",
    "y_pred_probs[:5]"
   ]
  },
  {
   "cell_type": "code",
   "execution_count": 44,
   "id": "acc61674",
   "metadata": {
    "execution": {
     "iopub.execute_input": "2023-11-16T13:17:22.329400Z",
     "iopub.status.busy": "2023-11-16T13:17:22.328655Z",
     "iopub.status.idle": "2023-11-16T13:17:22.339532Z",
     "shell.execute_reply": "2023-11-16T13:17:22.338512Z"
    },
    "papermill": {
     "duration": 0.030896,
     "end_time": "2023-11-16T13:17:22.341578",
     "exception": false,
     "start_time": "2023-11-16T13:17:22.310682",
     "status": "completed"
    },
    "tags": []
   },
   "outputs": [
    {
     "data": {
      "text/plain": [
       "tensor([0, 0, 0, 0, 0])"
      ]
     },
     "execution_count": 44,
     "metadata": {},
     "output_type": "execute_result"
    }
   ],
   "source": [
    "y_preds = torch.argmax(y_pred_probs, dim=1)\n",
    "y_preds[:5]"
   ]
  },
  {
   "cell_type": "code",
   "execution_count": 45,
   "id": "b05e5dd4",
   "metadata": {
    "execution": {
     "iopub.execute_input": "2023-11-16T13:17:22.376627Z",
     "iopub.status.busy": "2023-11-16T13:17:22.375946Z",
     "iopub.status.idle": "2023-11-16T13:17:22.383403Z",
     "shell.execute_reply": "2023-11-16T13:17:22.382584Z"
    },
    "papermill": {
     "duration": 0.02776,
     "end_time": "2023-11-16T13:17:22.385474",
     "exception": false,
     "start_time": "2023-11-16T13:17:22.357714",
     "status": "completed"
    },
    "tags": []
   },
   "outputs": [
    {
     "data": {
      "text/plain": [
       "tensor([False,  True,  True])"
      ]
     },
     "execution_count": 45,
     "metadata": {},
     "output_type": "execute_result"
    }
   ],
   "source": [
    "# Calculate accuracy (a classification metric)\n",
    "def accuracy_fn(y_true, y_pred):\n",
    "    correct = torch.eq(y_true, y_pred).sum().item() # torch.eq() calculates where two tensors are equal\n",
    "    acc = (correct / len(y_pred)) * 100 \n",
    "    return acc\n",
    "\n",
    "torch.eq(torch.Tensor([1,3,3]), torch.Tensor([2,3,3]))"
   ]
  },
  {
   "cell_type": "code",
   "execution_count": 46,
   "id": "3a8df93b",
   "metadata": {
    "execution": {
     "iopub.execute_input": "2023-11-16T13:17:22.420127Z",
     "iopub.status.busy": "2023-11-16T13:17:22.419207Z",
     "iopub.status.idle": "2023-11-16T13:17:22.425289Z",
     "shell.execute_reply": "2023-11-16T13:17:22.424571Z"
    },
    "papermill": {
     "duration": 0.025243,
     "end_time": "2023-11-16T13:17:22.427150",
     "exception": false,
     "start_time": "2023-11-16T13:17:22.401907",
     "status": "completed"
    },
    "tags": []
   },
   "outputs": [
    {
     "data": {
      "text/plain": [
       "66.66666666666666"
      ]
     },
     "execution_count": 46,
     "metadata": {},
     "output_type": "execute_result"
    }
   ],
   "source": [
    "accuracy_fn(torch.Tensor([1,1,1]), torch.Tensor([1,1,3]))"
   ]
  },
  {
   "cell_type": "code",
   "execution_count": 47,
   "id": "735974e2",
   "metadata": {
    "execution": {
     "iopub.execute_input": "2023-11-16T13:17:22.462872Z",
     "iopub.status.busy": "2023-11-16T13:17:22.462458Z",
     "iopub.status.idle": "2023-11-16T13:17:26.378344Z",
     "shell.execute_reply": "2023-11-16T13:17:26.377164Z"
    },
    "papermill": {
     "duration": 3.937188,
     "end_time": "2023-11-16T13:17:26.381198",
     "exception": false,
     "start_time": "2023-11-16T13:17:22.444010",
     "status": "completed"
    },
    "tags": []
   },
   "outputs": [
    {
     "name": "stdout",
     "output_type": "stream",
     "text": [
      "Epoch: 0 | Loss: 1.06503, Acc: 50.67% | Test Loss: 1.06623, Test Acc: 28.57%\n",
      "Epoch: 100 | Loss: 0.18523, Acc: 96.00% | Test Loss: 0.21014, Test Acc: 92.86%\n",
      "Epoch: 200 | Loss: 0.03483, Acc: 98.67% | Test Loss: 0.20776, Test Acc: 92.86%\n",
      "Epoch: 300 | Loss: 0.00307, Acc: 100.00% | Test Loss: 0.43350, Test Acc: 92.86%\n",
      "Epoch: 400 | Loss: 0.00078, Acc: 100.00% | Test Loss: 0.54151, Test Acc: 92.86%\n",
      "Epoch: 500 | Loss: 0.00035, Acc: 100.00% | Test Loss: 0.60459, Test Acc: 92.86%\n",
      "Epoch: 600 | Loss: 0.00019, Acc: 100.00% | Test Loss: 0.65849, Test Acc: 92.86%\n",
      "Epoch: 700 | Loss: 0.00011, Acc: 100.00% | Test Loss: 0.70336, Test Acc: 92.86%\n",
      "Epoch: 800 | Loss: 0.00007, Acc: 100.00% | Test Loss: 0.74038, Test Acc: 92.86%\n",
      "Epoch: 900 | Loss: 0.00005, Acc: 100.00% | Test Loss: 0.77137, Test Acc: 92.86%\n"
     ]
    }
   ],
   "source": [
    "# Fit the model\n",
    "torch.manual_seed(42)\n",
    "\n",
    "# Set number of epochs\n",
    "epochs = 1000\n",
    "\n",
    "# Put data on target device\n",
    "X_train, y_train = X_train.to(device), y_train.to(device)\n",
    "X_test, y_test = X_test.to(device), y_test.to(device)\n",
    "\n",
    "for epoch in range(epochs):\n",
    "    ### Training\n",
    "    model_5.train()\n",
    "    \n",
    "    # 1. Forward pass\n",
    "    y_logits = model_5(X_train)\n",
    "    y_pred = torch.softmax(y_logits, dim=1).argmax(dim=1)\n",
    "    \n",
    "    # 2. Calculate loss and accuracy\n",
    "    loss = loss_fn(y_logits, y_train)\n",
    "    acc = accuracy_fn(y_train, y_pred)\n",
    "    \n",
    "    # 3. Optimizer zero grad\n",
    "    optimizer.zero_grad()\n",
    "    \n",
    "    # 4. Loss backwards\n",
    "    loss.backward()\n",
    "    \n",
    "    #5. Optimizer step\n",
    "    optimizer.step()\n",
    "    \n",
    "    ### Testing\n",
    "    model_5.eval()\n",
    "    with torch.inference_mode():\n",
    "        # 1. Forward pass\n",
    "        test_logits = model_5(X_test)\n",
    "        test_pred = torch.softmax(test_logits, dim=1).argmax(dim=1)\n",
    "        # 2. Calculate test loss and accuracy\n",
    "        test_loss = loss_fn(test_logits, y_test)\n",
    "        test_acc = accuracy_fn(y_true=y_test,\n",
    "                             y_pred=test_pred)\n",
    "    # Print out what's happening\n",
    "    if epoch % 100 == 0:\n",
    "        print(f\"Epoch: {epoch} | Loss: {loss:.5f}, Acc: {acc:.2f}% | Test Loss: {test_loss:.5f}, Test Acc: {test_acc:.2f}%\") "
   ]
  },
  {
   "cell_type": "code",
   "execution_count": null,
   "id": "a1d6a7c8",
   "metadata": {
    "papermill": {
     "duration": 0.025348,
     "end_time": "2023-11-16T13:17:26.423950",
     "exception": false,
     "start_time": "2023-11-16T13:17:26.398602",
     "status": "completed"
    },
    "tags": []
   },
   "outputs": [],
   "source": []
  },
  {
   "cell_type": "code",
   "execution_count": null,
   "id": "3e4a3d78",
   "metadata": {
    "papermill": {
     "duration": 0.017429,
     "end_time": "2023-11-16T13:17:26.459372",
     "exception": false,
     "start_time": "2023-11-16T13:17:26.441943",
     "status": "completed"
    },
    "tags": []
   },
   "outputs": [],
   "source": []
  }
 ],
 "metadata": {
  "kaggle": {
   "accelerator": "none",
   "dataSources": [
    {
     "datasetId": 3549798,
     "sourceId": 6937915,
     "sourceType": "datasetVersion"
    },
    {
     "datasetId": 3984789,
     "sourceId": 6980333,
     "sourceType": "datasetVersion"
    }
   ],
   "dockerImageVersionId": 30579,
   "isGpuEnabled": false,
   "isInternetEnabled": true,
   "language": "python",
   "sourceType": "notebook"
  },
  "kernelspec": {
   "display_name": "Python 3",
   "language": "python",
   "name": "python3"
  },
  "language_info": {
   "codemirror_mode": {
    "name": "ipython",
    "version": 3
   },
   "file_extension": ".py",
   "mimetype": "text/x-python",
   "name": "python",
   "nbconvert_exporter": "python",
   "pygments_lexer": "ipython3",
   "version": "3.10.12"
  },
  "papermill": {
   "default_parameters": {},
   "duration": 24.891121,
   "end_time": "2023-11-16T13:17:27.599946",
   "environment_variables": {},
   "exception": null,
   "input_path": "__notebook__.ipynb",
   "output_path": "__notebook__.ipynb",
   "parameters": {},
   "start_time": "2023-11-16T13:17:02.708825",
   "version": "2.4.0"
  }
 },
 "nbformat": 4,
 "nbformat_minor": 5
}
